{
 "cells": [
  {
   "cell_type": "code",
   "execution_count": 3,
   "id": "36629cf9",
   "metadata": {},
   "outputs": [],
   "source": [
    "#이 기능을 가진 모듈을 만들것임\n",
    "\n",
    "def add(num1,num2) :\n",
    "    return num1 +num2\n",
    "\n",
    "def minus(num1,num2) :\n",
    "    return num1 -num2\n",
    "\n",
    "def mul(num1,num2) :\n",
    "    return num1 *num2\n",
    "\n",
    "def div(num1,num2) :\n",
    "    return num1 /num2"
   ]
  },
  {
   "cell_type": "code",
   "execution_count": null,
   "id": "23c0076c",
   "metadata": {},
   "outputs": [],
   "source": [
    "# 내 pc - c드라이브 - 사용자 - smhrd - Python Library로 들어가서 \n",
    "# 내가 python으로 빼서 만들어둔 calculator 옮기기"
   ]
  },
  {
   "cell_type": "code",
   "execution_count": null,
   "id": "bf358d95",
   "metadata": {},
   "outputs": [],
   "source": []
  },
  {
   "cell_type": "code",
   "execution_count": null,
   "id": "21ef0e51",
   "metadata": {},
   "outputs": [],
   "source": []
  },
  {
   "cell_type": "code",
   "execution_count": null,
   "id": "3ab21a73",
   "metadata": {},
   "outputs": [],
   "source": []
  },
  {
   "cell_type": "code",
   "execution_count": null,
   "id": "f53f07e6",
   "metadata": {},
   "outputs": [],
   "source": []
  },
  {
   "cell_type": "code",
   "execution_count": null,
   "id": "2e56af31",
   "metadata": {},
   "outputs": [],
   "source": []
  },
  {
   "cell_type": "code",
   "execution_count": null,
   "id": "da935a17",
   "metadata": {},
   "outputs": [],
   "source": []
  },
  {
   "cell_type": "code",
   "execution_count": null,
   "id": "ec4068ec",
   "metadata": {},
   "outputs": [],
   "source": []
  },
  {
   "cell_type": "code",
   "execution_count": null,
   "id": "fe361cda",
   "metadata": {},
   "outputs": [],
   "source": []
  },
  {
   "cell_type": "code",
   "execution_count": null,
   "id": "a1d92ff5",
   "metadata": {},
   "outputs": [],
   "source": []
  },
  {
   "cell_type": "code",
   "execution_count": null,
   "id": "bdcee4a0",
   "metadata": {},
   "outputs": [],
   "source": []
  },
  {
   "cell_type": "code",
   "execution_count": null,
   "id": "56b0616f",
   "metadata": {},
   "outputs": [],
   "source": []
  },
  {
   "cell_type": "code",
   "execution_count": null,
   "id": "046d01a6",
   "metadata": {},
   "outputs": [],
   "source": []
  },
  {
   "cell_type": "code",
   "execution_count": null,
   "id": "dcd7e601",
   "metadata": {},
   "outputs": [],
   "source": []
  }
 ],
 "metadata": {
  "kernelspec": {
   "display_name": "Python 3",
   "language": "python",
   "name": "python3"
  },
  "language_info": {
   "codemirror_mode": {
    "name": "ipython",
    "version": 3
   },
   "file_extension": ".py",
   "mimetype": "text/x-python",
   "name": "python",
   "nbconvert_exporter": "python",
   "pygments_lexer": "ipython3",
   "version": "3.11.2"
  },
  "vscode": {
   "interpreter": {
    "hash": "8d29ec00ae0add0190cce9c6bb44028ed64b4cb4a58b5f5c12e34c6897e75494"
   }
  }
 },
 "nbformat": 4,
 "nbformat_minor": 5
}

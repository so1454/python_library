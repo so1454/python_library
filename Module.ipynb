{
 "cells": [
  {
   "cell_type": "code",
   "execution_count": null,
   "id": "3ea1af20",
   "metadata": {},
   "outputs": [],
   "source": [
    "#첫번째 임포트 기능 (안에 뭐가있는지 알때)"
   ]
  },
  {
   "cell_type": "code",
   "execution_count": null,
   "id": "030ddaf3",
   "metadata": {},
   "outputs": [],
   "source": [
    "import calculator as cal             # alias cal 해주면 간단하게 불러올 수 있음"
   ]
  },
  {
   "cell_type": "code",
   "execution_count": null,
   "id": "ea7b645c",
   "metadata": {},
   "outputs": [],
   "source": [
    "cal.add(1,2)            #calculator.으로 불러와줘야함"
   ]
  },
  {
   "cell_type": "code",
   "execution_count": null,
   "id": "b39388fc",
   "metadata": {},
   "outputs": [],
   "source": [
    "cal.minus(10,7)"
   ]
  },
  {
   "cell_type": "code",
   "execution_count": null,
   "id": "12be161f",
   "metadata": {},
   "outputs": [],
   "source": [
    "calculator.mul(5,5)"
   ]
  },
  {
   "cell_type": "code",
   "execution_count": null,
   "id": "14deaced",
   "metadata": {},
   "outputs": [],
   "source": [
    "calculator.div(4,2)"
   ]
  },
  {
   "cell_type": "code",
   "execution_count": 1,
   "id": "cfd29b41",
   "metadata": {},
   "outputs": [],
   "source": [
    "#두번째 임포트 방법 나는 calculator에 뭐가 있는지 모르니까 다 가지고 올께!\n",
    "\n",
    "from calculator import add  #add만 불러옴"
   ]
  },
  {
   "cell_type": "code",
   "execution_count": 2,
   "id": "ff9e47b6",
   "metadata": {},
   "outputs": [
    {
     "data": {
      "text/plain": [
       "3"
      ]
     },
     "execution_count": 2,
     "metadata": {},
     "output_type": "execute_result"
    }
   ],
   "source": [
    "add(1,2)"
   ]
  },
  {
   "cell_type": "code",
   "execution_count": 3,
   "id": "136f80fd",
   "metadata": {},
   "outputs": [
    {
     "ename": "NameError",
     "evalue": "name 'minus' is not defined",
     "output_type": "error",
     "traceback": [
      "\u001b[1;31m---------------------------------------------------------------------------\u001b[0m",
      "\u001b[1;31mNameError\u001b[0m                                 Traceback (most recent call last)",
      "\u001b[1;32m~\\AppData\\Local\\Temp\\ipykernel_8344\\3802458061.py\u001b[0m in \u001b[0;36m<module>\u001b[1;34m\u001b[0m\n\u001b[1;32m----> 1\u001b[1;33m \u001b[0mminus\u001b[0m\u001b[1;33m(\u001b[0m\u001b[1;36m3\u001b[0m\u001b[1;33m,\u001b[0m\u001b[1;36m2\u001b[0m\u001b[1;33m)\u001b[0m\u001b[1;33m\u001b[0m\u001b[1;33m\u001b[0m\u001b[0m\n\u001b[0m",
      "\u001b[1;31mNameError\u001b[0m: name 'minus' is not defined"
     ]
    }
   ],
   "source": [
    "minus(3,2)"
   ]
  },
  {
   "cell_type": "code",
   "execution_count": null,
   "id": "557027e7",
   "metadata": {},
   "outputs": [],
   "source": []
  },
  {
   "cell_type": "code",
   "execution_count": null,
   "id": "9e11ce43",
   "metadata": {},
   "outputs": [],
   "source": []
  },
  {
   "cell_type": "code",
   "execution_count": null,
   "id": "69b29db7",
   "metadata": {},
   "outputs": [],
   "source": []
  },
  {
   "cell_type": "code",
   "execution_count": null,
   "id": "8077d6d5",
   "metadata": {},
   "outputs": [],
   "source": []
  },
  {
   "cell_type": "code",
   "execution_count": null,
   "id": "683ffc30",
   "metadata": {},
   "outputs": [],
   "source": []
  },
  {
   "cell_type": "code",
   "execution_count": null,
   "id": "70aa1e65",
   "metadata": {},
   "outputs": [],
   "source": []
  },
  {
   "cell_type": "code",
   "execution_count": null,
   "id": "8c2a4379",
   "metadata": {},
   "outputs": [],
   "source": []
  },
  {
   "cell_type": "code",
   "execution_count": null,
   "id": "8e833c51",
   "metadata": {},
   "outputs": [],
   "source": []
  },
  {
   "cell_type": "code",
   "execution_count": null,
   "id": "bbc1b295",
   "metadata": {},
   "outputs": [],
   "source": []
  }
 ],
 "metadata": {
  "kernelspec": {
   "display_name": "Python 3 (ipykernel)",
   "language": "python",
   "name": "python3"
  },
  "language_info": {
   "codemirror_mode": {
    "name": "ipython",
    "version": 3
   },
   "file_extension": ".py",
   "mimetype": "text/x-python",
   "name": "python",
   "nbconvert_exporter": "python",
   "pygments_lexer": "ipython3",
   "version": "3.9.13"
  }
 },
 "nbformat": 4,
 "nbformat_minor": 5
}

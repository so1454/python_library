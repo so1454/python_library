{
 "cells": [
  {
   "cell_type": "markdown",
   "id": "d46b4ce3",
   "metadata": {},
   "source": [
    "## Numpy\n",
    "- 고성능 과학 계산을 위한 데이터 분석 라이브러리 / 필수적인 라이브러리 \n",
    "- 빠르고 효율적인 산술 연산을 제공하는 다차원 배열 제공(ndarray)\n",
    "- 반복문 없이 전체 데이터 배열 연산이 가능한 함수 제공"
   ]
  },
  {
   "cell_type": "code",
   "execution_count": 1,
   "id": "eb4a7dad",
   "metadata": {},
   "outputs": [],
   "source": [
    "#라이브러리 불러오기\n",
    "\n",
    "import numpy as np\n"
   ]
  },
  {
   "cell_type": "code",
   "execution_count": 2,
   "id": "2cacac25",
   "metadata": {},
   "outputs": [],
   "source": [
    "# Numpy 설치\n",
    "# !pip install Numpy   이렇게 해서 설치하면되는데(이미 설치가 되어있어서 지금은 안해도 될듯)"
   ]
  },
  {
   "cell_type": "code",
   "execution_count": 3,
   "id": "c88abaec",
   "metadata": {},
   "outputs": [
    {
     "data": {
      "text/plain": [
       "[1, 2, 3, 4, 5]"
      ]
     },
     "execution_count": 3,
     "metadata": {},
     "output_type": "execute_result"
    }
   ],
   "source": [
    "# 1차원의 ndarray(넘파이 배열)만들어보기\n",
    "list_ = [1,2,3,4,5]\n",
    "list_"
   ]
  },
  {
   "cell_type": "code",
   "execution_count": 4,
   "id": "3f9eba46",
   "metadata": {},
   "outputs": [
    {
     "data": {
      "text/plain": [
       "array([1, 2, 3, 4, 5])"
      ]
     },
     "execution_count": 4,
     "metadata": {},
     "output_type": "execute_result"
    }
   ],
   "source": [
    "#ndarray(넘파이 배열)을 만드는 명령어 : np,array()\n",
    "arr_=np.array(list_)\n",
    "arr_"
   ]
  },
  {
   "cell_type": "code",
   "execution_count": 5,
   "id": "5a9ada01",
   "metadata": {},
   "outputs": [
    {
     "data": {
      "text/plain": [
       "array([1, 2, 3, 4, 5])"
      ]
     },
     "execution_count": 5,
     "metadata": {},
     "output_type": "execute_result"
    }
   ],
   "source": [
    "#또는 \n",
    "arr_=np.array([1,2,3,4,5])  #이렇게 대놓고 넣어주는 것도 가능\n",
    "arr_"
   ]
  },
  {
   "cell_type": "code",
   "execution_count": 6,
   "id": "eef039ce",
   "metadata": {},
   "outputs": [
    {
     "data": {
      "text/plain": [
       "[1, 2, 3, 4, 5, 1, 2, 3, 4, 5]"
      ]
     },
     "execution_count": 6,
     "metadata": {},
     "output_type": "execute_result"
    }
   ],
   "source": [
    "list_+list_     #그냥 리스트끼리는 문자열처럼 붙히는데!"
   ]
  },
  {
   "cell_type": "code",
   "execution_count": 7,
   "id": "d3ef3696",
   "metadata": {},
   "outputs": [
    {
     "data": {
      "text/plain": [
       "array([ 2,  4,  6,  8, 10])"
      ]
     },
     "execution_count": 7,
     "metadata": {},
     "output_type": "execute_result"
    }
   ],
   "source": [
    "arr_+arr_     #넘파이는 같은 인덱스끼리 연산을 해줌"
   ]
  },
  {
   "cell_type": "code",
   "execution_count": 8,
   "id": "33abfb28",
   "metadata": {},
   "outputs": [
    {
     "data": {
      "text/plain": [
       "array([[1, 2, 3],\n",
       "       [4, 5, 6]])"
      ]
     },
     "execution_count": 8,
     "metadata": {},
     "output_type": "execute_result"
    }
   ],
   "source": [
    "arr2 = np.array([[1,2,3],[4,5,6]])  #2차원의 개념이 들어가려면 두 리스트 중간에 ','있어야함\n",
    "arr2"
   ]
  },
  {
   "cell_type": "code",
   "execution_count": 9,
   "id": "a27ef1b8",
   "metadata": {},
   "outputs": [
    {
     "data": {
      "text/plain": [
       "3"
      ]
     },
     "execution_count": 9,
     "metadata": {},
     "output_type": "execute_result"
    }
   ],
   "source": [
    "arr2[0][2]"
   ]
  },
  {
   "cell_type": "code",
   "execution_count": 10,
   "id": "dca6bc5f",
   "metadata": {},
   "outputs": [
    {
     "data": {
      "text/plain": [
       "(2, 3)"
      ]
     },
     "execution_count": 10,
     "metadata": {},
     "output_type": "execute_result"
    }
   ],
   "source": [
    "# 배열의 크기 확인하기\n",
    " #(행의개수,열의갯수) 형식으로 출력\n",
    "arr2.shape"
   ]
  },
  {
   "cell_type": "code",
   "execution_count": 11,
   "id": "55a5306f",
   "metadata": {},
   "outputs": [
    {
     "data": {
      "text/plain": [
       "6"
      ]
     },
     "execution_count": 11,
     "metadata": {},
     "output_type": "execute_result"
    }
   ],
   "source": [
    "# 배열의 '전체' 요소 개수 확인하기(shqpe의 수를 곱하면 나옴)\n",
    "\n",
    "arr2.size"
   ]
  },
  {
   "cell_type": "code",
   "execution_count": 12,
   "id": "819eef28",
   "metadata": {},
   "outputs": [
    {
     "data": {
      "text/plain": [
       "dtype('int32')"
      ]
     },
     "execution_count": 12,
     "metadata": {},
     "output_type": "execute_result"
    }
   ],
   "source": [
    "#배열(하나의 자료형을 가짐)의 타입(어떤 자료형으로 구성이 되어있는지 알 수 있다.)\n",
    "arr2.dtype"
   ]
  },
  {
   "cell_type": "code",
   "execution_count": 13,
   "id": "87954bd6",
   "metadata": {},
   "outputs": [
    {
     "data": {
      "text/plain": [
       "2"
      ]
     },
     "execution_count": 13,
     "metadata": {},
     "output_type": "execute_result"
    }
   ],
   "source": [
    "#배열의 차원 확인\n",
    "arr2.ndim"
   ]
  },
  {
   "cell_type": "code",
   "execution_count": 14,
   "id": "b5e269d1",
   "metadata": {},
   "outputs": [
    {
     "name": "stdout",
     "output_type": "stream",
     "text": [
      "배열의 크기 : (2, 2, 2)\n",
      "배열의 차원 : 3\n",
      "배열의 개수 : 8\n"
     ]
    }
   ],
   "source": [
    "# 예제\n",
    "arr3 = np.array([[[1,2],\n",
    "                [3,4]],\n",
    "                 [[5,6],\n",
    "                [7,8]]])\n",
    "\n",
    "print(f\"배열의 크기 : {arr3.shape}\")\n",
    "print(f\"배열의 차원 : {arr3.ndim}\")\n",
    "print(f\"배열의 개수 : {arr3.size}\")"
   ]
  },
  {
   "cell_type": "code",
   "execution_count": 15,
   "id": "4efce00b",
   "metadata": {},
   "outputs": [
    {
     "name": "stdout",
     "output_type": "stream",
     "text": [
      "[1, 2, 3, 4, 5, 6, 7, 8, 9, 10, 11, 12, 13, 14, 15, 16, 17, 18, 19, 20, 21, 22, 23, 24, 25, 26, 27, 28, 29, 30, 31, 32, 33, 34, 35, 36, 37, 38, 39, 40, 41, 42, 43, 44, 45, 46, 47, 48, 49, 50]\n"
     ]
    }
   ],
   "source": [
    "# 1부터 50까지 이루어진 리스트를 생성하고 배열을 만들어주세요\n",
    "a = []    # 빈리스트 먼저 생성\n",
    "\n",
    "for i in range(1,51) :\n",
    "    a.append(i)        # for문으로 i를 담아주기\n",
    "print(a)"
   ]
  },
  {
   "cell_type": "code",
   "execution_count": 16,
   "id": "a7ba3d73",
   "metadata": {},
   "outputs": [],
   "source": [
    "# 넘파이로 만들어주기\n",
    "\n",
    "arr4 = np.array(a)"
   ]
  },
  {
   "cell_type": "code",
   "execution_count": 17,
   "id": "18e12a28",
   "metadata": {},
   "outputs": [
    {
     "data": {
      "text/plain": [
       "array([ 1,  2,  3,  4,  5,  6,  7,  8,  9, 10, 11, 12, 13, 14, 15, 16, 17,\n",
       "       18, 19, 20, 21, 22, 23, 24, 25, 26, 27, 28, 29, 30, 31, 32, 33, 34,\n",
       "       35, 36, 37, 38, 39, 40, 41, 42, 43, 44, 45, 46, 47, 48, 49, 50])"
      ]
     },
     "execution_count": 17,
     "metadata": {},
     "output_type": "execute_result"
    }
   ],
   "source": [
    "# arrange : range 함수와 유사한 기능을 가지고 있다. 하지만 arange함수는 넘파이에만 있다\n",
    "# range 함수와 헷갈리지 말 것! \n",
    "\n",
    "arr4 = np.arange(1,51)    #간다하게 담기가능\n",
    "arr4"
   ]
  },
  {
   "cell_type": "code",
   "execution_count": 18,
   "id": "919282f4",
   "metadata": {},
   "outputs": [
    {
     "data": {
      "text/plain": [
       "array([[ 1,  2,  3,  4,  5,  6,  7,  8,  9, 10],\n",
       "       [11, 12, 13, 14, 15, 16, 17, 18, 19, 20],\n",
       "       [21, 22, 23, 24, 25, 26, 27, 28, 29, 30],\n",
       "       [31, 32, 33, 34, 35, 36, 37, 38, 39, 40],\n",
       "       [41, 42, 43, 44, 45, 46, 47, 48, 49, 50]])"
      ]
     },
     "execution_count": 18,
     "metadata": {},
     "output_type": "execute_result"
    }
   ],
   "source": [
    "#reshape(행,열) : 넘파이 배열의 형태를 바꿔주는 함수\n",
    "\n",
    "arr5 = np.arange(1,51).reshape(5,10)   # 하나의 리스트로 되어있는 것을 바꿔줌\n",
    "arr5"
   ]
  },
  {
   "cell_type": "code",
   "execution_count": 19,
   "id": "22c4b998",
   "metadata": {},
   "outputs": [
    {
     "ename": "ValueError",
     "evalue": "cannot reshape array of size 50 into shape (6,10)",
     "output_type": "error",
     "traceback": [
      "\u001b[1;31m---------------------------------------------------------------------------\u001b[0m",
      "\u001b[1;31mValueError\u001b[0m                                Traceback (most recent call last)",
      "Cell \u001b[1;32mIn[19], line 1\u001b[0m\n\u001b[1;32m----> 1\u001b[0m arr5 \u001b[39m=\u001b[39m np\u001b[39m.\u001b[39;49marange(\u001b[39m1\u001b[39;49m,\u001b[39m51\u001b[39;49m)\u001b[39m.\u001b[39;49mreshape(\u001b[39m6\u001b[39;49m,\u001b[39m10\u001b[39;49m)   \u001b[39m# 기존에 null값이 있던거 아님\u001b[39;00m\n\u001b[0;32m      2\u001b[0m \u001b[39m#                                         null값을 허용을 하지 않음\u001b[39;00m\n\u001b[0;32m      3\u001b[0m arr5\n",
      "\u001b[1;31mValueError\u001b[0m: cannot reshape array of size 50 into shape (6,10)"
     ]
    }
   ],
   "source": [
    "arr5 = np.arange(1,51).reshape(6,10)   # 기존에 null값이 있던거 아님\n",
    "#                                         null값을 허용을 하지 않음\n",
    "arr5"
   ]
  },
  {
   "cell_type": "code",
   "execution_count": null,
   "id": "0d264a7c",
   "metadata": {},
   "outputs": [
    {
     "data": {
      "text/plain": [
       "array([[[ 1,  2,  3,  4,  5],\n",
       "        [ 6,  7,  8,  9, 10],\n",
       "        [11, 12, 13, 14, 15],\n",
       "        [16, 17, 18, 19, 20],\n",
       "        [21, 22, 23, 24, 25]],\n",
       "\n",
       "       [[26, 27, 28, 29, 30],\n",
       "        [31, 32, 33, 34, 35],\n",
       "        [36, 37, 38, 39, 40],\n",
       "        [41, 42, 43, 44, 45],\n",
       "        [46, 47, 48, 49, 50]]])"
      ]
     },
     "execution_count": 7,
     "metadata": {},
     "output_type": "execute_result"
    }
   ],
   "source": [
    "# 3차원 좀 더 쉽게 만들기\n",
    "\n",
    "arr5 = np.arange(1,51).reshape(2,5,5) #두개의 리스트/ 5개의 행 / 5개의 열\n",
    "\n",
    "arr5"
   ]
  },
  {
   "cell_type": "markdown",
   "id": "d982c2fd",
   "metadata": {},
   "source": [
    "## 0214"
   ]
  },
  {
   "cell_type": "code",
   "execution_count": null,
   "id": "e2b1cb5d",
   "metadata": {},
   "outputs": [
    {
     "data": {
      "text/plain": [
       "array([[0., 0., 0., 0., 0., 0.],\n",
       "       [0., 0., 0., 0., 0., 0.],\n",
       "       [0., 0., 0., 0., 0., 0.],\n",
       "       [0., 0., 0., 0., 0., 0.],\n",
       "       [0., 0., 0., 0., 0., 0.]])"
      ]
     },
     "execution_count": 3,
     "metadata": {},
     "output_type": "execute_result"
    }
   ],
   "source": [
    "# 특정한 값으로 배열을 만들어보자\n",
    "#배열의 형태를 보기위해서 이걸 미리 만들어 놓는다고 한다.\n",
    "# 0이라는 숫자로 배열을 생성 np.zeros((행, 열))\n",
    "arr_zeros = np.zeros((5,6))\n",
    "arr_zeros"
   ]
  },
  {
   "cell_type": "code",
   "execution_count": null,
   "id": "5085c33f",
   "metadata": {
    "scrolled": true
   },
   "outputs": [
    {
     "data": {
      "text/plain": [
       "array([[1., 1., 1., 1.],\n",
       "       [1., 1., 1., 1.],\n",
       "       [1., 1., 1., 1.]])"
      ]
     },
     "execution_count": 6,
     "metadata": {},
     "output_type": "execute_result"
    }
   ],
   "source": [
    "# 1이라는 숫자로 배열을 생성!   np.ones((행, 열))\n",
    "arr_ones = np.ones((3,4))\n",
    "arr_ones"
   ]
  },
  {
   "cell_type": "code",
   "execution_count": null,
   "id": "c885de7f",
   "metadata": {},
   "outputs": [
    {
     "data": {
      "text/plain": [
       "array([['국수', '국수', '국수', '국수', '국수', '국수', '국수'],\n",
       "       ['국수', '국수', '국수', '국수', '국수', '국수', '국수'],\n",
       "       ['국수', '국수', '국수', '국수', '국수', '국수', '국수'],\n",
       "       ['국수', '국수', '국수', '국수', '국수', '국수', '국수'],\n",
       "       ['국수', '국수', '국수', '국수', '국수', '국수', '국수']], dtype='<U2')"
      ]
     },
     "execution_count": 10,
     "metadata": {},
     "output_type": "execute_result"
    }
   ],
   "source": [
    "# 특정한 값으로 배열 생성하기  np.full((행,열),원하는 수)\n",
    "np.full((5,7),\"국수\")\n"
   ]
  },
  {
   "cell_type": "code",
   "execution_count": null,
   "id": "7803f9cd",
   "metadata": {},
   "outputs": [
    {
     "data": {
      "text/plain": [
       "array([[0.44984675, 0.72738404, 0.75251999, 0.15136899, 0.81403146],\n",
       "       [0.29317293, 0.36267298, 0.78117567, 0.10597355, 0.15352402],\n",
       "       [0.70938374, 0.7652293 , 0.64826335, 0.46190789, 0.17181412],\n",
       "       [0.66576346, 0.50273837, 0.07607627, 0.09839704, 0.5102258 ]])"
      ]
     },
     "execution_count": 13,
     "metadata": {},
     "output_type": "execute_result"
    }
   ],
   "source": [
    "# 랜덤값 배열 생성하기\n",
    "arr = np.random.rand(4,5)\n",
    "arr"
   ]
  },
  {
   "cell_type": "code",
   "execution_count": null,
   "id": "151cf2a8",
   "metadata": {},
   "outputs": [
    {
     "data": {
      "text/plain": [
       "array([[33, 14, 44, 44, 18, 44],\n",
       "       [36, 45, 35, 30,  6, 16],\n",
       "       [36, 40, 44, 43, 42, 33],\n",
       "       [40, 12, 30,  2, 36, 45],\n",
       "       [32, 19, 43, 45, 18,  5]])"
      ]
     },
     "execution_count": 8,
     "metadata": {},
     "output_type": "execute_result"
    }
   ],
   "source": [
    "# np.random.randint(시작값,끝값+1 , size = (행, 열) )\n",
    "# randint 함수는 지정한 범위 안의 정수형의 값을 랜덤으로 생성하는 함수\n",
    "# 별도의 size 옵션을 통해 배열의 크기를 지정해줄 수 있다.\n",
    "arr1 = np.random.randint(1,46, size= (5,6))   #중복없이 45까지 출력이 됨\n",
    "arr1"
   ]
  },
  {
   "cell_type": "code",
   "execution_count": null,
   "id": "ce659cf1",
   "metadata": {},
   "outputs": [
    {
     "data": {
      "text/plain": [
       "array([1, 3, 5], dtype=int64)"
      ]
     },
     "execution_count": 13,
     "metadata": {},
     "output_type": "execute_result"
    }
   ],
   "source": [
    "#타입을 지정해서 배열을 생성\n",
    "arr_type = np.array([1.2,3.4,5.6],dtype = np.int64)\n",
    "arr_type"
   ]
  },
  {
   "cell_type": "code",
   "execution_count": null,
   "id": "242f629e",
   "metadata": {},
   "outputs": [
    {
     "data": {
      "text/plain": [
       "array([[33., 14., 44., 44., 18., 44.],\n",
       "       [36., 45., 35., 30.,  6., 16.],\n",
       "       [36., 40., 44., 43., 42., 33.],\n",
       "       [40., 12., 30.,  2., 36., 45.],\n",
       "       [32., 19., 43., 45., 18.,  5.]])"
      ]
     },
     "execution_count": 14,
     "metadata": {},
     "output_type": "execute_result"
    }
   ],
   "source": [
    "# 이미 만들어진 배열에 타입을 변경해보자.(아까 랜덤 만들었던 배열)\n",
    "arr1.astype(\"float64\")"
   ]
  },
  {
   "cell_type": "code",
   "execution_count": null,
   "id": "e5b27875",
   "metadata": {},
   "outputs": [
    {
     "data": {
      "text/plain": [
       "array([[33, 14, 44, 44, 18, 44],\n",
       "       [36, 45, 35, 30,  6, 16],\n",
       "       [36, 40, 44, 43, 42, 33],\n",
       "       [40, 12, 30,  2, 36, 45],\n",
       "       [32, 19, 43, 45, 18,  5]])"
      ]
     },
     "execution_count": 15,
     "metadata": {},
     "output_type": "execute_result"
    }
   ],
   "source": [
    "arr1   #바뀐거 보여줌"
   ]
  },
  {
   "cell_type": "code",
   "execution_count": null,
   "id": "ddf08a31",
   "metadata": {},
   "outputs": [
    {
     "data": {
      "text/plain": [
       "array([1, 2, 3])"
      ]
     },
     "execution_count": 16,
     "metadata": {},
     "output_type": "execute_result"
    }
   ],
   "source": [
    "arr = np.array([1,2,3])\n",
    "arr"
   ]
  },
  {
   "cell_type": "code",
   "execution_count": null,
   "id": "65cd47a7",
   "metadata": {},
   "outputs": [
    {
     "data": {
      "text/plain": [
       "array([2, 4, 6])"
      ]
     },
     "execution_count": 17,
     "metadata": {},
     "output_type": "execute_result"
    }
   ],
   "source": [
    "arr + arr"
   ]
  },
  {
   "cell_type": "code",
   "execution_count": null,
   "id": "20f4b012",
   "metadata": {},
   "outputs": [
    {
     "data": {
      "text/plain": [
       "array([1, 4, 9])"
      ]
     },
     "execution_count": 18,
     "metadata": {},
     "output_type": "execute_result"
    }
   ],
   "source": [
    "arr * arr"
   ]
  },
  {
   "cell_type": "code",
   "execution_count": null,
   "id": "058903be",
   "metadata": {},
   "outputs": [
    {
     "data": {
      "text/plain": [
       "array([[1, 2, 3],\n",
       "       [4, 5, 6]])"
      ]
     },
     "execution_count": 19,
     "metadata": {},
     "output_type": "execute_result"
    }
   ],
   "source": [
    "arr2_a = np.array([[1,2,3],[4,5,6]])\n",
    "arr2_a"
   ]
  },
  {
   "cell_type": "code",
   "execution_count": null,
   "id": "18f96383",
   "metadata": {},
   "outputs": [
    {
     "data": {
      "text/plain": [
       "array([[ 7,  8,  9],\n",
       "       [10, 11, 12]])"
      ]
     },
     "execution_count": 20,
     "metadata": {},
     "output_type": "execute_result"
    }
   ],
   "source": [
    "arr2_b = np.array([[7,8,9],[10,11,12]])\n",
    "arr2_b"
   ]
  },
  {
   "cell_type": "code",
   "execution_count": null,
   "id": "a476dd09",
   "metadata": {},
   "outputs": [
    {
     "data": {
      "text/plain": [
       "array([[ 8, 10, 12],\n",
       "       [14, 16, 18]])"
      ]
     },
     "execution_count": 21,
     "metadata": {},
     "output_type": "execute_result"
    }
   ],
   "source": [
    "arr2_a + arr2_b"
   ]
  },
  {
   "cell_type": "code",
   "execution_count": null,
   "id": "233f7109",
   "metadata": {},
   "outputs": [
    {
     "data": {
      "text/plain": [
       "array([[-6, -6, -6],\n",
       "       [-6, -6, -6]])"
      ]
     },
     "execution_count": 22,
     "metadata": {},
     "output_type": "execute_result"
    }
   ],
   "source": [
    "arr2_a -arr2_b"
   ]
  },
  {
   "cell_type": "code",
   "execution_count": null,
   "id": "3c2df1e3",
   "metadata": {},
   "outputs": [
    {
     "data": {
      "text/plain": [
       "array([[1, 2, 3],\n",
       "       [4, 5, 6]])"
      ]
     },
     "execution_count": 25,
     "metadata": {},
     "output_type": "execute_result"
    }
   ],
   "source": [
    "arr2_a = np.arange(1,7).reshape(2,3) # re\n",
    "arr2_a"
   ]
  },
  {
   "cell_type": "code",
   "execution_count": null,
   "id": "95371c7e",
   "metadata": {},
   "outputs": [
    {
     "data": {
      "text/plain": [
       "array([[4, 5, 6],\n",
       "       [7, 8, 9]])"
      ]
     },
     "execution_count": 26,
     "metadata": {},
     "output_type": "execute_result"
    }
   ],
   "source": [
    "rs = arr2_a +3    #각 요소에 3씩 더해줌\n",
    "rs"
   ]
  },
  {
   "cell_type": "code",
   "execution_count": null,
   "id": "1aaa5a93",
   "metadata": {},
   "outputs": [
    {
     "data": {
      "text/plain": [
       "array([2.2, 3.2, 4.2])"
      ]
     },
     "execution_count": 29,
     "metadata": {},
     "output_type": "execute_result"
    }
   ],
   "source": [
    "arr2_b = np.array([1.2])\n",
    "arr2_c = np.array([1,2,3])\n",
    "\n",
    "arr2_b + arr2_c"
   ]
  },
  {
   "cell_type": "code",
   "execution_count": null,
   "id": "b8f6b95d",
   "metadata": {},
   "outputs": [
    {
     "data": {
      "text/plain": [
       "array([[2, 4, 6],\n",
       "       [5, 7, 9]])"
      ]
     },
     "execution_count": 32,
     "metadata": {},
     "output_type": "execute_result"
    }
   ],
   "source": [
    "arr2_b = np.array([[1,2,3],[4,5,6]])\n",
    "arr2_c = np.array([1,2,3])\n",
    "\n",
    "arr2_b + arr2_c"
   ]
  },
  {
   "cell_type": "code",
   "execution_count": null,
   "id": "2bcdaabd",
   "metadata": {},
   "outputs": [],
   "source": [
    "# numpy의 브로드 캐스팅\n",
    "# 조건1. 차원의 크기가 1일때 가능하다\n",
    "# -> 두 배열간의 연산에서 최소한 차원의 크기가 1일때 가능하다(1행이든 1열이든)\n",
    "# 조건2. 차원의 짝이 맞을때 가능하다.\n",
    "# -> 차원에 대해 축의 길이가 동일하면 브로드캐스팅이 가능하다.\n",
    "\n"
   ]
  },
  {
   "cell_type": "markdown",
   "id": "4f80bd3d",
   "metadata": {},
   "source": [
    "### 인덱싱, 슬라이싱"
   ]
  },
  {
   "cell_type": "code",
   "execution_count": null,
   "id": "fc14c07c",
   "metadata": {},
   "outputs": [
    {
     "data": {
      "text/plain": [
       "array([0, 1, 2, 3, 4, 5])"
      ]
     },
     "execution_count": 36,
     "metadata": {},
     "output_type": "execute_result"
    }
   ],
   "source": [
    "arr_1 = np.array([0,1,2,3,4,5])\n",
    "arr_1"
   ]
  },
  {
   "cell_type": "code",
   "execution_count": null,
   "id": "d76435ce",
   "metadata": {},
   "outputs": [
    {
     "data": {
      "text/plain": [
       "2"
      ]
     },
     "execution_count": 37,
     "metadata": {},
     "output_type": "execute_result"
    }
   ],
   "source": [
    "arr_1[2]"
   ]
  },
  {
   "cell_type": "code",
   "execution_count": null,
   "id": "9cbd0497",
   "metadata": {},
   "outputs": [
    {
     "data": {
      "text/plain": [
       "array([[1, 2, 3],\n",
       "       [4, 5, 6]])"
      ]
     },
     "execution_count": 39,
     "metadata": {},
     "output_type": "execute_result"
    }
   ],
   "source": [
    "arr = np.array([[1,2,3],[4,5,6]])\n",
    "arr"
   ]
  },
  {
   "cell_type": "code",
   "execution_count": null,
   "id": "3bd8334c",
   "metadata": {},
   "outputs": [
    {
     "name": "stdout",
     "output_type": "stream",
     "text": [
      "[1 2 3]\n"
     ]
    }
   ],
   "source": [
    "print(arr[0])"
   ]
  },
  {
   "cell_type": "code",
   "execution_count": null,
   "id": "82091dfd",
   "metadata": {},
   "outputs": [
    {
     "name": "stdout",
     "output_type": "stream",
     "text": [
      "1\n"
     ]
    }
   ],
   "source": [
    "print(arr[0][0])"
   ]
  },
  {
   "cell_type": "code",
   "execution_count": null,
   "id": "f2ce20c9",
   "metadata": {},
   "outputs": [
    {
     "name": "stdout",
     "output_type": "stream",
     "text": [
      "1\n"
     ]
    }
   ],
   "source": [
    "print(arr[0,0])   # 그냥 리스트는 안됐는데 이건 됨"
   ]
  },
  {
   "cell_type": "code",
   "execution_count": null,
   "id": "374cc82a",
   "metadata": {},
   "outputs": [
    {
     "data": {
      "text/plain": [
       "array([0, 1, 2, 3, 4, 5, 6, 7, 8, 9])"
      ]
     },
     "execution_count": 48,
     "metadata": {},
     "output_type": "execute_result"
    }
   ],
   "source": [
    "# 1차원 array 슬라이싱\n",
    "arr1 = np.arange(10)\n",
    "arr1\n"
   ]
  },
  {
   "cell_type": "code",
   "execution_count": null,
   "id": "8c5c64c7",
   "metadata": {},
   "outputs": [
    {
     "data": {
      "text/plain": [
       "array([3, 4, 5, 6, 7])"
      ]
     },
     "execution_count": 49,
     "metadata": {},
     "output_type": "execute_result"
    }
   ],
   "source": [
    "# 3 ~ 7까지의 숫자를 슬라이싱 해오세요\n",
    "arr1[3:8]"
   ]
  },
  {
   "cell_type": "code",
   "execution_count": null,
   "id": "59b0beda",
   "metadata": {},
   "outputs": [
    {
     "data": {
      "text/plain": [
       "array([0, 1, 2, 2, 2, 2, 2, 2, 8, 9])"
      ]
     },
     "execution_count": 51,
     "metadata": {},
     "output_type": "execute_result"
    }
   ],
   "source": [
    "# 슬라이싱 한 곳에 데이터를 한번에 넣어보자\n",
    "\n",
    "arr1[3:8 ] = 2\n",
    "arr1"
   ]
  },
  {
   "cell_type": "code",
   "execution_count": null,
   "id": "5807d2c8",
   "metadata": {},
   "outputs": [
    {
     "data": {
      "text/plain": [
       "[0, 1, 2, 77, 77, 77, 77, 77, 8, 9]"
      ]
     },
     "execution_count": 52,
     "metadata": {},
     "output_type": "execute_result"
    }
   ],
   "source": [
    "list1 = [0,1,2,3,4,5,6,7,8,9]\n",
    "list1[3:8] = [77,77,77,77,77]    # 리스트 같은 경우는 값 개수 그대로 넣어줘야한다\n",
    "list1"
   ]
  },
  {
   "cell_type": "code",
   "execution_count": null,
   "id": "88ceaf91",
   "metadata": {},
   "outputs": [
    {
     "data": {
      "text/plain": [
       "array([[ 1,  2,  3,  4,  5,  6,  7,  8,  9, 10],\n",
       "       [11, 12, 13, 14, 15, 16, 17, 18, 19, 20],\n",
       "       [21, 22, 23, 24, 25, 26, 27, 28, 29, 30],\n",
       "       [31, 32, 33, 34, 35, 36, 37, 38, 39, 40],\n",
       "       [41, 42, 43, 44, 45, 46, 47, 48, 49, 50]])"
      ]
     },
     "execution_count": 55,
     "metadata": {},
     "output_type": "execute_result"
    }
   ],
   "source": [
    "# 1. 5행 10열의 1 ~ 50까지 숫자를 가진 넘파이 배열을 만들어보자\n",
    "arr2 = np.arange(1,51).reshape(5,10)\n",
    "arr2"
   ]
  },
  {
   "cell_type": "code",
   "execution_count": null,
   "id": "2eb81529",
   "metadata": {},
   "outputs": [
    {
     "data": {
      "text/plain": [
       "24"
      ]
     },
     "execution_count": 59,
     "metadata": {},
     "output_type": "execute_result"
    }
   ],
   "source": [
    "# 2. 숫자 24를 가져와보자\n",
    "\n",
    "arr2[2][3]\n",
    "arr2[2,3]"
   ]
  },
  {
   "cell_type": "code",
   "execution_count": null,
   "id": "c95de086",
   "metadata": {},
   "outputs": [
    {
     "data": {
      "text/plain": [
       "array([[11, 12, 13, 14, 15, 16, 17, 18, 19, 20],\n",
       "       [21, 22, 23, 24, 25, 26, 27, 28, 29, 30]])"
      ]
     },
     "execution_count": 63,
     "metadata": {},
     "output_type": "execute_result"
    }
   ],
   "source": [
    "# 1번 인덱스 행과 2번 인덱스 행의 전체 열 데이터 가져오기\n",
    "# ,기호는 행, 열을 구분하는 기호\n",
    "# [ 행부터 : 행까지 +1  , 열부터 : 열까지+1]\n",
    "# : 기호는 [시작값 : 끝 값 +1 ] 범위를 지정하는 기호\n",
    "arr2[1: 3, : ]"
   ]
  },
  {
   "cell_type": "code",
   "execution_count": null,
   "id": "e249ed39",
   "metadata": {},
   "outputs": [
    {
     "data": {
      "text/plain": [
       "array([[ 6,  7,  8,  9, 10],\n",
       "       [16, 17, 18, 19, 20],\n",
       "       [26, 27, 28, 29, 30],\n",
       "       [36, 37, 38, 39, 40],\n",
       "       [46, 47, 48, 49, 50]])"
      ]
     },
     "execution_count": 65,
     "metadata": {},
     "output_type": "execute_result"
    }
   ],
   "source": [
    "arr2[ : , 5 :11 ]"
   ]
  },
  {
   "cell_type": "code",
   "execution_count": null,
   "id": "4301e6e7",
   "metadata": {
    "scrolled": false
   },
   "outputs": [
    {
     "data": {
      "text/plain": [
       "array([[ 9, 10],\n",
       "       [19, 20],\n",
       "       [29, 30],\n",
       "       [39, 40],\n",
       "       [49, 50]])"
      ]
     },
     "execution_count": 66,
     "metadata": {},
     "output_type": "execute_result"
    }
   ],
   "source": [
    "arr2 [ : , 8 : ]"
   ]
  },
  {
   "attachments": {
    "image.png": {
     "image/png": "[encoded data removed]"
    }
   },
   "cell_type": "markdown",
   "id": "e28cf69c",
   "metadata": {},
   "source": [
    "![image.png](attachment:image.png)"
   ]
  },
  {
   "cell_type": "code",
   "execution_count": null,
   "id": "b36d8ac3",
   "metadata": {},
   "outputs": [
    {
     "data": {
      "text/plain": [
       "array([[21, 22, 23, 24, 25, 26, 27, 28, 29, 30],\n",
       "       [31, 32, 33, 34, 35, 36, 37, 38, 39, 40]])"
      ]
     },
     "execution_count": 67,
     "metadata": {},
     "output_type": "execute_result"
    }
   ],
   "source": [
    "#1. 빨간\n",
    "arr2[2:4 , :]"
   ]
  },
  {
   "cell_type": "code",
   "execution_count": null,
   "id": "fa5d0637",
   "metadata": {},
   "outputs": [
    {
     "data": {
      "text/plain": [
       "array([[ 5,  6,  7],\n",
       "       [15, 16, 17],\n",
       "       [25, 26, 27],\n",
       "       [35, 36, 37],\n",
       "       [45, 46, 47]])"
      ]
     },
     "execution_count": 70,
     "metadata": {},
     "output_type": "execute_result"
    }
   ],
   "source": [
    "#1. 주황\n",
    "arr2[ : , 4 : 7]"
   ]
  },
  {
   "cell_type": "code",
   "execution_count": null,
   "id": "7c88f94d",
   "metadata": {},
   "outputs": [
    {
     "data": {
      "text/plain": [
       "array([[28, 29],\n",
       "       [38, 39]])"
      ]
     },
     "execution_count": 74,
     "metadata": {},
     "output_type": "execute_result"
    }
   ],
   "source": [
    "#1. 녹색\n",
    "arr2[2:4 , 7 : 9]"
   ]
  },
  {
   "cell_type": "code",
   "execution_count": null,
   "id": "d6922908",
   "metadata": {},
   "outputs": [
    {
     "data": {
      "text/plain": [
       "array([[12, 13],\n",
       "       [22, 23]])"
      ]
     },
     "execution_count": 75,
     "metadata": {},
     "output_type": "execute_result"
    }
   ],
   "source": [
    "#1. 파랑\n",
    "arr2[ 1:3 ,1 :3 ]"
   ]
  },
  {
   "cell_type": "markdown",
   "id": "379571d0",
   "metadata": {},
   "source": [
    "### BMI 지수를 구해봅시다.\n",
    "- 10명의 키와 몸무게를 이용해서 각 사람별 BMI 지수를 구할 꺼에요"
   ]
  },
  {
   "cell_type": "code",
   "execution_count": null,
   "id": "57302835",
   "metadata": {},
   "outputs": [
    {
     "data": {
      "text/plain": [
       "array([[175.2, 180.3, 175. , 169.2, 185.2, 188. , 177.6, 178.2, 177. ,\n",
       "        179. ],\n",
       "       [ 65.6,  88. ,  79.2,  69.3,  55. ,  71.2,  73. ,  68.9,  74. ,\n",
       "         82. ]])"
      ]
     },
     "execution_count": 80,
     "metadata": {},
     "output_type": "execute_result"
    }
   ],
   "source": [
    "# 넘파이 배열로 외부 데이터 불러오기!\n",
    "data = np.loadtxt('./data/height_weight.txt', delimiter = \",\")\n",
    "data"
   ]
  },
  {
   "cell_type": "code",
   "execution_count": null,
   "id": "b9aa6ca7",
   "metadata": {},
   "outputs": [
    {
     "name": "stdout",
     "output_type": "stream",
     "text": [
      "배열의 크기 : (2, 10)\n",
      "배열의 차원 : 2\n",
      "배열의 개수 : 20\n"
     ]
    }
   ],
   "source": [
    "# 1. 데이터의 속성알아보기\n",
    "print(f\"배열의 크기 : {data.shape}\")\n",
    "print(f\"배열의 차원 : {data.ndim}\")\n",
    "print(f\"배열의 개수 : {data.size}\")"
   ]
  },
  {
   "cell_type": "code",
   "execution_count": null,
   "id": "2d07c9fb",
   "metadata": {},
   "outputs": [
    {
     "name": "stdout",
     "output_type": "stream",
     "text": [
      "[175.2 180.3 175.  169.2 185.2 188.  177.6 178.2 177.  179. ]\n",
      "[65.6 88.  79.2 69.3 55.  71.2 73.  68.9 74.  82. ]\n"
     ]
    }
   ],
   "source": [
    "# 2. 넘파이 배열에서 키와 몸무게 데이터를 각각 변수에 나눠 담아주기\n",
    "\n",
    "height = data[0]\n",
    "weight = data[1]\n",
    "\n",
    "print(height)\n",
    "print(weight)"
   ]
  },
  {
   "cell_type": "code",
   "execution_count": null,
   "id": "94d325ae",
   "metadata": {},
   "outputs": [
    {
     "name": "stdout",
     "output_type": "stream",
     "text": [
      "[21.37153104 27.07018468 25.86122449 24.20652885 16.03543423 20.14486193\n",
      " 23.14392095 21.69720651 23.62028791 25.59220998]\n"
     ]
    }
   ],
   "source": [
    "# 3. 주어진 BMI지수 공식을 코드로 구현해서 BMI 지수 구해보기\n",
    "# BMI = 몸무게 / (키*키)\n",
    "\n",
    "mheight = height * 0.01\n",
    "\n",
    "result = (weight / (mheight**2))\n",
    "\n",
    "print(result)"
   ]
  },
  {
   "cell_type": "markdown",
   "id": "aebf90b1",
   "metadata": {},
   "source": [
    "### Boolean 색인(인덱싱)\n",
    "\n",
    "배열 안에서 조건을 충족하는 True인 값들만 추출해주는 방법\n",
    "\n",
    "- 특정 조건에 맞으면 True 아니면 False 값으로 배열을 만들어서 조건에 맞는 True 값만 접근하는 방식"
   ]
  },
  {
   "cell_type": "code",
   "execution_count": null,
   "id": "77221ce5",
   "metadata": {},
   "outputs": [
    {
     "ename": "NameError",
     "evalue": "name 'np' is not defined",
     "output_type": "error",
     "traceback": [
      "\u001b[1;31m---------------------------------------------------------------------------\u001b[0m",
      "\u001b[1;31mNameError\u001b[0m                                 Traceback (most recent call last)",
      "Cell \u001b[1;32mIn[1], line 4\u001b[0m\n\u001b[0;32m      1\u001b[0m \u001b[39m# 과체중인 사람을 찾아내보자  --> 어떻게? : 불리언 인덱싱을 이용해서\u001b[39;00m\n\u001b[0;32m      2\u001b[0m \n\u001b[0;32m      3\u001b[0m \u001b[39m# 50 ~ 99까지 8개의 값을 가지는 1차원 배열을 만들어보자\u001b[39;00m\n\u001b[1;32m----> 4\u001b[0m arr10 \u001b[39m=\u001b[39m np\u001b[39m.\u001b[39marray(np\u001b[39m.\u001b[39mrandom\u001b[39m.\u001b[39mrandint(\u001b[39m50\u001b[39m,\u001b[39m100\u001b[39m,size \u001b[39m=\u001b[39m \u001b[39m8\u001b[39m))\n\u001b[0;32m      5\u001b[0m arr10\n",
      "\u001b[1;31mNameError\u001b[0m: name 'np' is not defined"
     ]
    }
   ],
   "source": [
    "# 과체중인 사람을 찾아내보자  --> 어떻게? : 불리언 인덱싱을 이용해서\n",
    "\n",
    "# 50 ~ 99까지 8개의 값을 가지는 1차원 배열을 만들어보자\n",
    "arr10 = np.array(np.random.randint(50,100,size = 8))\n",
    "arr10"
   ]
  },
  {
   "cell_type": "code",
   "execution_count": null,
   "id": "c1d039f3",
   "metadata": {},
   "outputs": [
    {
     "data": {
      "text/plain": [
       "array([False, False, False,  True,  True, False, False, False])"
      ]
     },
     "execution_count": 107,
     "metadata": {},
     "output_type": "execute_result"
    }
   ],
   "source": [
    "# 80 이상의 숫자만 걸러내 보자!\n",
    "arr10 >= 80       # -> 이것은 boolean 데이터 : True or False 이다."
   ]
  },
  {
   "cell_type": "code",
   "execution_count": null,
   "id": "972955b4",
   "metadata": {},
   "outputs": [
    {
     "data": {
      "text/plain": [
       "array([91, 92])"
      ]
     },
     "execution_count": 108,
     "metadata": {},
     "output_type": "execute_result"
    }
   ],
   "source": [
    "# 이렇게 대놓고 안에 boolean 데이터를 넣어줘도 값은 가지고 나온다\n",
    "arr10[arr10 >= 80]      "
   ]
  },
  {
   "cell_type": "code",
   "execution_count": null,
   "id": "490591ef",
   "metadata": {},
   "outputs": [
    {
     "data": {
      "text/plain": [
       "array([72, 56, 92, 64, 56])"
      ]
     },
     "execution_count": 109,
     "metadata": {},
     "output_type": "execute_result"
    }
   ],
   "source": [
    "# arr10 에서 짝수인 값들만 인덱싱 해오세요\n",
    "arr10[arr10 % 2 == 0]       # True값만 가지고 온 것임!"
   ]
  },
  {
   "cell_type": "code",
   "execution_count": null,
   "id": "403be1cb",
   "metadata": {},
   "outputs": [
    {
     "data": {
      "text/plain": [
       "array([24, 23, 23], dtype=int64)"
      ]
     },
     "execution_count": 134,
     "metadata": {},
     "output_type": "execute_result"
    }
   ],
   "source": [
    "# 위에서 구한 BMI지수를 가지고 과체중을 걸러내보자\n",
    "# 과체중의 기준은 23이상 / 25 미만\n",
    "# 1. 위에서 구한 BMI 지수를 정수형으로 바꿔주세요\n",
    "\n",
    "arr = np.array(result,dtype = \"int64\")\n",
    "# arr = arr.astype('int64')\n",
    "arr\n",
    "\n",
    "# 2. 정수형으로 바꾼 BMI지수를 이용해서 과체중인 사람을 불리언 인덱싱 해오세요\n",
    "arr[(arr >= 23) & (arr < 25)]"
   ]
  },
  {
   "attachments": {},
   "cell_type": "markdown",
   "id": "2fadd75b",
   "metadata": {},
   "source": [
    "## 유니버셜 함수"
   ]
  },
  {
   "cell_type": "code",
   "execution_count": null,
   "id": "ff91b899",
   "metadata": {},
   "outputs": [
    {
     "ename": "",
     "evalue": "",
     "output_type": "error",
     "traceback": [
      "\u001b[1;31m커널을 시작하지 못했습니다. \n",
      "\u001b[1;31mJupyter server crashed. Unable to connect. \n",
      "\u001b[1;31mError code from Jupyter: 1\n",
      "\u001b[1;31musage: jupyter.py [-h] [--version] [--config-dir] [--data-dir] [--runtime-dir]\n",
      "\u001b[1;31m                  [--paths] [--json] [--debug]\n",
      "\u001b[1;31m                  [subcommand]\n",
      "\u001b[1;31m\n",
      "\u001b[1;31mJupyter: Interactive Computing\n",
      "\u001b[1;31m\n",
      "\u001b[1;31mpositional arguments:\n",
      "\u001b[1;31m  subcommand     the subcommand to launch\n",
      "\u001b[1;31m\n",
      "\u001b[1;31moptions:\n",
      "\u001b[1;31m  -h, --help     show this help message and exit\n",
      "\u001b[1;31m  --version      show the versions of core jupyter packages and exit\n",
      "\u001b[1;31m  --config-dir   show Jupyter config dir\n",
      "\u001b[1;31m  --data-dir     show Jupyter data dir\n",
      "\u001b[1;31m  --runtime-dir  show Jupyter runtime dir\n",
      "\u001b[1;31m  --paths        show all Jupyter paths. Add --json for machine-readable\n",
      "\u001b[1;31m                 format.\n",
      "\u001b[1;31m  --json         output paths as machine-readable json\n",
      "\u001b[1;31m  --debug        output debug information about paths\n",
      "\u001b[1;31m\n",
      "\u001b[1;31mAvailable subcommands: 1.0.0\n",
      "\u001b[1;31m\n",
      "\u001b[1;31mJupyter command `jupyter-notebook` not found. \n",
      "\u001b[1;31m자세한 내용은 Jupyter <a href='command:jupyter.viewOutput'>로그</a>를 참조하세요."
     ]
    }
   ],
   "source": [
    "# sum() : 값들의 합계를 구하는 함수\n",
    "arr = np.random.randint(1,10,size = (2,5))\n",
    "arr"
   ]
  },
  {
   "cell_type": "code",
   "execution_count": null,
   "id": "4598eaa3",
   "metadata": {},
   "outputs": [],
   "source": []
  },
  {
   "cell_type": "code",
   "execution_count": null,
   "id": "0bbdcacd",
   "metadata": {},
   "outputs": [],
   "source": []
  },
  {
   "cell_type": "code",
   "execution_count": null,
   "id": "835a2679",
   "metadata": {},
   "outputs": [],
   "source": []
  },
  {
   "cell_type": "code",
   "execution_count": null,
   "id": "3e46160d",
   "metadata": {},
   "outputs": [],
   "source": []
  }
 ],
 "metadata": {
  "kernelspec": {
   "display_name": "Python 3",
   "language": "python",
   "name": "python3"
  },
  "language_info": {
   "codemirror_mode": {
    "name": "ipython",
    "version": 3
   },
   "file_extension": ".py",
   "mimetype": "text/x-python",
   "name": "python",
   "nbconvert_exporter": "python",
   "pygments_lexer": "ipython3",
   "version": "3.11.2"
  },
  "vscode": {
   "interpreter": {
    "hash": "8d29ec00ae0add0190cce9c6bb44028ed64b4cb4a58b5f5c12e34c6897e75494"
   }
  }
 },
 "nbformat": 4,
 "nbformat_minor": 5
}

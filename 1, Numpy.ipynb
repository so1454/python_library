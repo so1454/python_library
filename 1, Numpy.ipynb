{
 "cells": [
  {
   "cell_type": "markdown",
   "id": "d46b4ce3",
   "metadata": {},
   "source": [
    "## Numpy\n",
    "- 고성능 과학 계산을 위한 데이터 분석 라이브러리 / 필수적인 라이브러리 \n",
    "- 빠르고 효율적인 산술 연산을 제공하는 다차원 배열 제공(ndarray)\n",
    "- 반복문 없이 전체 데이터 배열 연산이 가능한 함수 제공"
   ]
  },
  {
   "cell_type": "code",
   "execution_count": 72,
   "id": "eb4a7dad",
   "metadata": {},
   "outputs": [],
   "source": [
    "#라이브러리 불러오기\n",
    "\n",
    "import numpy as np\n"
   ]
  },
  {
   "cell_type": "code",
   "execution_count": 73,
   "id": "2cacac25",
   "metadata": {},
   "outputs": [],
   "source": [
    "# Numpy 설치\n",
    "# !pip install Numpy   이렇게 해서 설치하면되는데(이미 설치가 되어있어서 지금은 안해도 될듯)"
   ]
  },
  {
   "cell_type": "code",
   "execution_count": 74,
   "id": "c88abaec",
   "metadata": {},
   "outputs": [
    {
     "data": {
      "text/plain": [
       "[1, 2, 3, 4, 5]"
      ]
     },
     "execution_count": 74,
     "metadata": {},
     "output_type": "execute_result"
    }
   ],
   "source": [
    "# 1차원의 ndarray(넘파이 배열)만들어보기\n",
    "list_ = [1,2,3,4,5]\n",
    "list_"
   ]
  },
  {
   "cell_type": "code",
   "execution_count": 75,
   "id": "3f9eba46",
   "metadata": {},
   "outputs": [
    {
     "data": {
      "text/plain": [
       "array([1, 2, 3, 4, 5])"
      ]
     },
     "execution_count": 75,
     "metadata": {},
     "output_type": "execute_result"
    }
   ],
   "source": [
    "#ndarray(넘파이 배열)을 만드는 명령어 : np,array()\n",
    "arr_=np.array(list_)\n",
    "arr_"
   ]
  },
  {
   "cell_type": "code",
   "execution_count": 76,
   "id": "5a9ada01",
   "metadata": {},
   "outputs": [
    {
     "data": {
      "text/plain": [
       "array([1, 2, 3, 4, 5])"
      ]
     },
     "execution_count": 76,
     "metadata": {},
     "output_type": "execute_result"
    }
   ],
   "source": [
    "#또는 \n",
    "arr_=np.array([1,2,3,4,5])  #이렇게 대놓고 넣어주는 것도 가능\n",
    "arr_"
   ]
  },
  {
   "cell_type": "code",
   "execution_count": 77,
   "id": "eef039ce",
   "metadata": {},
   "outputs": [
    {
     "data": {
      "text/plain": [
       "[1, 2, 3, 4, 5, 1, 2, 3, 4, 5]"
      ]
     },
     "execution_count": 77,
     "metadata": {},
     "output_type": "execute_result"
    }
   ],
   "source": [
    "list_+list_     #그냥 리스트끼리는 문자열처럼 붙히는데!"
   ]
  },
  {
   "cell_type": "code",
   "execution_count": 78,
   "id": "d3ef3696",
   "metadata": {},
   "outputs": [
    {
     "data": {
      "text/plain": [
       "array([ 2,  4,  6,  8, 10])"
      ]
     },
     "execution_count": 78,
     "metadata": {},
     "output_type": "execute_result"
    }
   ],
   "source": [
    "arr_+arr_     #넘파이는 같은 인덱스끼리 연산을 해줌"
   ]
  },
  {
   "cell_type": "code",
   "execution_count": 79,
   "id": "33abfb28",
   "metadata": {},
   "outputs": [
    {
     "data": {
      "text/plain": [
       "array([[1, 2, 3],\n",
       "       [4, 5, 6]])"
      ]
     },
     "execution_count": 79,
     "metadata": {},
     "output_type": "execute_result"
    }
   ],
   "source": [
    "arr2 = np.array([[1,2,3],[4,5,6]])  #2차원의 개념이 들어가려면 두 리스트 중간에 ','있어야함\n",
    "arr2"
   ]
  },
  {
   "cell_type": "code",
   "execution_count": 80,
   "id": "a27ef1b8",
   "metadata": {},
   "outputs": [
    {
     "data": {
      "text/plain": [
       "3"
      ]
     },
     "execution_count": 80,
     "metadata": {},
     "output_type": "execute_result"
    }
   ],
   "source": [
    "arr2[0][2]"
   ]
  },
  {
   "cell_type": "code",
   "execution_count": 81,
   "id": "dca6bc5f",
   "metadata": {},
   "outputs": [
    {
     "data": {
      "text/plain": [
       "(2, 3)"
      ]
     },
     "execution_count": 81,
     "metadata": {},
     "output_type": "execute_result"
    }
   ],
   "source": [
    "# 배열의 크기 확인하기\n",
    " #(행의개수,열의갯수) 형식으로 출력\n",
    "arr2.shape"
   ]
  },
  {
   "cell_type": "code",
   "execution_count": 82,
   "id": "55a5306f",
   "metadata": {},
   "outputs": [
    {
     "data": {
      "text/plain": [
       "6"
      ]
     },
     "execution_count": 82,
     "metadata": {},
     "output_type": "execute_result"
    }
   ],
   "source": [
    "# 배열의 '전체' 요소 개수 확인하기(shqpe의 수를 곱하면 나옴)\n",
    "\n",
    "arr2.size"
   ]
  },
  {
   "cell_type": "code",
   "execution_count": 83,
   "id": "819eef28",
   "metadata": {},
   "outputs": [
    {
     "data": {
      "text/plain": [
       "dtype('int32')"
      ]
     },
     "execution_count": 83,
     "metadata": {},
     "output_type": "execute_result"
    }
   ],
   "source": [
    "#배열(하나의 자료형을 가짐)의 타입(어떤 자료형으로 구성이 되어있는지 알 수 있다.)\n",
    "arr2.dtype"
   ]
  },
  {
   "cell_type": "code",
   "execution_count": 84,
   "id": "87954bd6",
   "metadata": {},
   "outputs": [
    {
     "data": {
      "text/plain": [
       "2"
      ]
     },
     "execution_count": 84,
     "metadata": {},
     "output_type": "execute_result"
    }
   ],
   "source": [
    "#배열의 차원 확인\n",
    "arr2.ndim"
   ]
  },
  {
   "cell_type": "code",
   "execution_count": 85,
   "id": "b5e269d1",
   "metadata": {},
   "outputs": [
    {
     "name": "stdout",
     "output_type": "stream",
     "text": [
      "배열의 크기 : (2, 2, 2)\n",
      "배열의 차원 : 3\n",
      "배열의 개수 : 8\n"
     ]
    }
   ],
   "source": [
    "# 예제\n",
    "arr3 = np.array([[[1,2],\n",
    "                [3,4]],\n",
    "                 [[5,6],\n",
    "                [7,8]]])\n",
    "\n",
    "print(f\"배열의 크기 : {arr3.shape}\")\n",
    "print(f\"배열의 차원 : {arr3.ndim}\")\n",
    "print(f\"배열의 개수 : {arr3.size}\")"
   ]
  },
  {
   "cell_type": "code",
   "execution_count": 86,
   "id": "4efce00b",
   "metadata": {},
   "outputs": [
    {
     "name": "stdout",
     "output_type": "stream",
     "text": [
      "[1, 2, 3, 4, 5, 6, 7, 8, 9, 10, 11, 12, 13, 14, 15, 16, 17, 18, 19, 20, 21, 22, 23, 24, 25, 26, 27, 28, 29, 30, 31, 32, 33, 34, 35, 36, 37, 38, 39, 40, 41, 42, 43, 44, 45, 46, 47, 48, 49, 50]\n"
     ]
    }
   ],
   "source": [
    "# 1부터 50까지 이루어진 리스트를 생성하고 배열을 만들어주세요\n",
    "a = []    # 빈리스트 먼저 생성\n",
    "\n",
    "for i in range(1,51) :\n",
    "    a.append(i)        # for문으로 i를 담아주기\n",
    "print(a)"
   ]
  },
  {
   "cell_type": "code",
   "execution_count": 87,
   "id": "a7ba3d73",
   "metadata": {},
   "outputs": [],
   "source": [
    "# 넘파이로 만들어주기\n",
    "\n",
    "arr4 = np.array(a)"
   ]
  },
  {
   "cell_type": "code",
   "execution_count": 88,
   "id": "18e12a28",
   "metadata": {},
   "outputs": [
    {
     "data": {
      "text/plain": [
       "array([ 1,  2,  3,  4,  5,  6,  7,  8,  9, 10, 11, 12, 13, 14, 15, 16, 17,\n",
       "       18, 19, 20, 21, 22, 23, 24, 25, 26, 27, 28, 29, 30, 31, 32, 33, 34,\n",
       "       35, 36, 37, 38, 39, 40, 41, 42, 43, 44, 45, 46, 47, 48, 49, 50])"
      ]
     },
     "execution_count": 88,
     "metadata": {},
     "output_type": "execute_result"
    }
   ],
   "source": [
    "# arrange : range 함수와 유사한 기능을 가지고 있다. 하지만 arange함수는 넘파이에만 있다\n",
    "# range 함수와 헷갈리지 말 것! \n",
    "\n",
    "arr4 = np.arange(1,51)    #간다하게 담기가능\n",
    "arr4"
   ]
  },
  {
   "cell_type": "code",
   "execution_count": 89,
   "id": "919282f4",
   "metadata": {},
   "outputs": [
    {
     "data": {
      "text/plain": [
       "array([[ 1,  2,  3,  4,  5,  6,  7,  8,  9, 10],\n",
       "       [11, 12, 13, 14, 15, 16, 17, 18, 19, 20],\n",
       "       [21, 22, 23, 24, 25, 26, 27, 28, 29, 30],\n",
       "       [31, 32, 33, 34, 35, 36, 37, 38, 39, 40],\n",
       "       [41, 42, 43, 44, 45, 46, 47, 48, 49, 50]])"
      ]
     },
     "execution_count": 89,
     "metadata": {},
     "output_type": "execute_result"
    }
   ],
   "source": [
    "#reshape(행,열) : 넘파이 배열의 형태를 바꿔주는 함수\n",
    "\n",
    "arr5 = np.arange(1,51).reshape(5,10)   # 하나의 리스트로 되어있는 것을 바꿔줌\n",
    "arr5"
   ]
  },
  {
   "cell_type": "code",
   "execution_count": 90,
   "id": "22c4b998",
   "metadata": {},
   "outputs": [
    {
     "ename": "ValueError",
     "evalue": "cannot reshape array of size 50 into shape (6,10)",
     "output_type": "error",
     "traceback": [
      "\u001b[1;31m---------------------------------------------------------------------------\u001b[0m",
      "\u001b[1;31mValueError\u001b[0m                                Traceback (most recent call last)",
      "\u001b[1;32m~\\AppData\\Local\\Temp\\ipykernel_10304\\3503582627.py\u001b[0m in \u001b[0;36m<module>\u001b[1;34m\u001b[0m\n\u001b[1;32m----> 1\u001b[1;33m \u001b[0marr5\u001b[0m \u001b[1;33m=\u001b[0m \u001b[0mnp\u001b[0m\u001b[1;33m.\u001b[0m\u001b[0marange\u001b[0m\u001b[1;33m(\u001b[0m\u001b[1;36m1\u001b[0m\u001b[1;33m,\u001b[0m\u001b[1;36m51\u001b[0m\u001b[1;33m)\u001b[0m\u001b[1;33m.\u001b[0m\u001b[0mreshape\u001b[0m\u001b[1;33m(\u001b[0m\u001b[1;36m6\u001b[0m\u001b[1;33m,\u001b[0m\u001b[1;36m10\u001b[0m\u001b[1;33m)\u001b[0m   \u001b[1;31m# 기존에 null값이 있던거 아님\u001b[0m\u001b[1;33m\u001b[0m\u001b[1;33m\u001b[0m\u001b[0m\n\u001b[0m\u001b[0;32m      2\u001b[0m \u001b[1;31m#                                         null값을 허용을 하지 않음\u001b[0m\u001b[1;33m\u001b[0m\u001b[1;33m\u001b[0m\u001b[0m\n\u001b[0;32m      3\u001b[0m \u001b[0marr5\u001b[0m\u001b[1;33m\u001b[0m\u001b[1;33m\u001b[0m\u001b[0m\n",
      "\u001b[1;31mValueError\u001b[0m: cannot reshape array of size 50 into shape (6,10)"
     ]
    }
   ],
   "source": [
    "arr5 = np.arange(1,51).reshape(6,10)   # 기존에 null값이 있던거 아님\n",
    "#                                         null값을 허용을 하지 않음\n",
    "arr5"
   ]
  },
  {
   "cell_type": "code",
   "execution_count": null,
   "id": "0d264a7c",
   "metadata": {},
   "outputs": [
    {
     "data": {
      "text/plain": [
       "array([[[ 1,  2,  3,  4,  5],\n",
       "        [ 6,  7,  8,  9, 10],\n",
       "        [11, 12, 13, 14, 15],\n",
       "        [16, 17, 18, 19, 20],\n",
       "        [21, 22, 23, 24, 25]],\n",
       "\n",
       "       [[26, 27, 28, 29, 30],\n",
       "        [31, 32, 33, 34, 35],\n",
       "        [36, 37, 38, 39, 40],\n",
       "        [41, 42, 43, 44, 45],\n",
       "        [46, 47, 48, 49, 50]]])"
      ]
     },
     "execution_count": 7,
     "metadata": {},
     "output_type": "execute_result"
    }
   ],
   "source": [
    "# 3차원 좀 더 쉽게 만들기\n",
    "\n",
    "arr5 = np.arange(1,51).reshape(2,5,5) #두개의 리스트/ 5개의 행 / 5개의 열\n",
    "\n",
    "arr5"
   ]
  },
  {
   "cell_type": "markdown",
   "id": "d982c2fd",
   "metadata": {},
   "source": [
    "## 0214"
   ]
  },
  {
   "cell_type": "code",
   "execution_count": null,
   "id": "e2b1cb5d",
   "metadata": {},
   "outputs": [
    {
     "data": {
      "text/plain": [
       "array([[0., 0., 0., 0., 0., 0.],\n",
       "       [0., 0., 0., 0., 0., 0.],\n",
       "       [0., 0., 0., 0., 0., 0.],\n",
       "       [0., 0., 0., 0., 0., 0.],\n",
       "       [0., 0., 0., 0., 0., 0.]])"
      ]
     },
     "execution_count": 3,
     "metadata": {},
     "output_type": "execute_result"
    }
   ],
   "source": [
    "# 특정한 값으로 배열을 만들어보자\n",
    "#배열의 형태를 보기위해서 이걸 미리 만들어 놓는다고 한다.\n",
    "# 0이라는 숫자로 배열을 생성 np.zeros((행, 열))\n",
    "arr_zeros = np.zeros((5,6))\n",
    "arr_zeros"
   ]
  },
  {
   "cell_type": "code",
   "execution_count": null,
   "id": "5085c33f",
   "metadata": {
    "scrolled": true
   },
   "outputs": [
    {
     "data": {
      "text/plain": [
       "array([[1., 1., 1., 1.],\n",
       "       [1., 1., 1., 1.],\n",
       "       [1., 1., 1., 1.]])"
      ]
     },
     "execution_count": 6,
     "metadata": {},
     "output_type": "execute_result"
    }
   ],
   "source": [
    "# 1이라는 숫자로 배열을 생성!   np.ones((행, 열))\n",
    "arr_ones = np.ones((3,4))\n",
    "arr_ones"
   ]
  },
  {
   "cell_type": "code",
   "execution_count": null,
   "id": "c885de7f",
   "metadata": {},
   "outputs": [
    {
     "data": {
      "text/plain": [
       "array([['국수', '국수', '국수', '국수', '국수', '국수', '국수'],\n",
       "       ['국수', '국수', '국수', '국수', '국수', '국수', '국수'],\n",
       "       ['국수', '국수', '국수', '국수', '국수', '국수', '국수'],\n",
       "       ['국수', '국수', '국수', '국수', '국수', '국수', '국수'],\n",
       "       ['국수', '국수', '국수', '국수', '국수', '국수', '국수']], dtype='<U2')"
      ]
     },
     "execution_count": 10,
     "metadata": {},
     "output_type": "execute_result"
    }
   ],
   "source": [
    "# 특정한 값으로 배열 생성하기  np.full((행,열),원하는 수)\n",
    "np.full((5,7),\"국수\")\n"
   ]
  },
  {
   "cell_type": "code",
   "execution_count": null,
   "id": "7803f9cd",
   "metadata": {},
   "outputs": [
    {
     "data": {
      "text/plain": [
       "array([[0.44984675, 0.72738404, 0.75251999, 0.15136899, 0.81403146],\n",
       "       [0.29317293, 0.36267298, 0.78117567, 0.10597355, 0.15352402],\n",
       "       [0.70938374, 0.7652293 , 0.64826335, 0.46190789, 0.17181412],\n",
       "       [0.66576346, 0.50273837, 0.07607627, 0.09839704, 0.5102258 ]])"
      ]
     },
     "execution_count": 13,
     "metadata": {},
     "output_type": "execute_result"
    }
   ],
   "source": [
    "# 랜덤값 배열 생성하기\n",
    "arr = np.random.rand(4,5)\n",
    "arr"
   ]
  },
  {
   "cell_type": "code",
   "execution_count": null,
   "id": "151cf2a8",
   "metadata": {},
   "outputs": [
    {
     "data": {
      "text/plain": [
       "array([[33, 14, 44, 44, 18, 44],\n",
       "       [36, 45, 35, 30,  6, 16],\n",
       "       [36, 40, 44, 43, 42, 33],\n",
       "       [40, 12, 30,  2, 36, 45],\n",
       "       [32, 19, 43, 45, 18,  5]])"
      ]
     },
     "execution_count": 8,
     "metadata": {},
     "output_type": "execute_result"
    }
   ],
   "source": [
    "# np.random.randint(시작값,끝값+1 , size = (행, 열) )\n",
    "# randint 함수는 지정한 범위 안의 정수형의 값을 랜덤으로 생성하는 함수\n",
    "# 별도의 size 옵션을 통해 배열의 크기를 지정해줄 수 있다.\n",
    "arr1 = np.random.randint(1,46, size= (5,6))   #중복없이 45까지 출력이 됨\n",
    "arr1"
   ]
  },
  {
   "cell_type": "code",
   "execution_count": null,
   "id": "ce659cf1",
   "metadata": {},
   "outputs": [
    {
     "data": {
      "text/plain": [
       "array([1, 3, 5], dtype=int64)"
      ]
     },
     "execution_count": 13,
     "metadata": {},
     "output_type": "execute_result"
    }
   ],
   "source": [
    "#타입을 지정해서 배열을 생성\n",
    "arr_type = np.array([1.2,3.4,5.6],dtype = np.int64)\n",
    "arr_type"
   ]
  },
  {
   "cell_type": "code",
   "execution_count": null,
   "id": "242f629e",
   "metadata": {},
   "outputs": [
    {
     "data": {
      "text/plain": [
       "array([[33., 14., 44., 44., 18., 44.],\n",
       "       [36., 45., 35., 30.,  6., 16.],\n",
       "       [36., 40., 44., 43., 42., 33.],\n",
       "       [40., 12., 30.,  2., 36., 45.],\n",
       "       [32., 19., 43., 45., 18.,  5.]])"
      ]
     },
     "execution_count": 14,
     "metadata": {},
     "output_type": "execute_result"
    }
   ],
   "source": [
    "# 이미 만들어진 배열에 타입을 변경해보자.(아까 랜덤 만들었던 배열)\n",
    "arr1.astype(\"float64\")"
   ]
  },
  {
   "cell_type": "code",
   "execution_count": null,
   "id": "e5b27875",
   "metadata": {},
   "outputs": [
    {
     "data": {
      "text/plain": [
       "array([[33, 14, 44, 44, 18, 44],\n",
       "       [36, 45, 35, 30,  6, 16],\n",
       "       [36, 40, 44, 43, 42, 33],\n",
       "       [40, 12, 30,  2, 36, 45],\n",
       "       [32, 19, 43, 45, 18,  5]])"
      ]
     },
     "execution_count": 15,
     "metadata": {},
     "output_type": "execute_result"
    }
   ],
   "source": [
    "arr1   #바뀐거 보여줌"
   ]
  },
  {
   "cell_type": "code",
   "execution_count": null,
   "id": "ddf08a31",
   "metadata": {},
   "outputs": [
    {
     "data": {
      "text/plain": [
       "array([1, 2, 3])"
      ]
     },
     "execution_count": 16,
     "metadata": {},
     "output_type": "execute_result"
    }
   ],
   "source": [
    "arr = np.array([1,2,3])\n",
    "arr"
   ]
  },
  {
   "cell_type": "code",
   "execution_count": null,
   "id": "65cd47a7",
   "metadata": {},
   "outputs": [
    {
     "data": {
      "text/plain": [
       "array([2, 4, 6])"
      ]
     },
     "execution_count": 17,
     "metadata": {},
     "output_type": "execute_result"
    }
   ],
   "source": [
    "arr + arr"
   ]
  },
  {
   "cell_type": "code",
   "execution_count": null,
   "id": "20f4b012",
   "metadata": {},
   "outputs": [
    {
     "data": {
      "text/plain": [
       "array([1, 4, 9])"
      ]
     },
     "execution_count": 18,
     "metadata": {},
     "output_type": "execute_result"
    }
   ],
   "source": [
    "arr * arr"
   ]
  },
  {
   "cell_type": "code",
   "execution_count": null,
   "id": "058903be",
   "metadata": {},
   "outputs": [
    {
     "data": {
      "text/plain": [
       "array([[1, 2, 3],\n",
       "       [4, 5, 6]])"
      ]
     },
     "execution_count": 19,
     "metadata": {},
     "output_type": "execute_result"
    }
   ],
   "source": [
    "arr2_a = np.array([[1,2,3],[4,5,6]])\n",
    "arr2_a"
   ]
  },
  {
   "cell_type": "code",
   "execution_count": null,
   "id": "18f96383",
   "metadata": {},
   "outputs": [
    {
     "data": {
      "text/plain": [
       "array([[ 7,  8,  9],\n",
       "       [10, 11, 12]])"
      ]
     },
     "execution_count": 20,
     "metadata": {},
     "output_type": "execute_result"
    }
   ],
   "source": [
    "arr2_b = np.array([[7,8,9],[10,11,12]])\n",
    "arr2_b"
   ]
  },
  {
   "cell_type": "code",
   "execution_count": null,
   "id": "a476dd09",
   "metadata": {},
   "outputs": [
    {
     "data": {
      "text/plain": [
       "array([[ 8, 10, 12],\n",
       "       [14, 16, 18]])"
      ]
     },
     "execution_count": 21,
     "metadata": {},
     "output_type": "execute_result"
    }
   ],
   "source": [
    "arr2_a + arr2_b"
   ]
  },
  {
   "cell_type": "code",
   "execution_count": null,
   "id": "233f7109",
   "metadata": {},
   "outputs": [
    {
     "data": {
      "text/plain": [
       "array([[-6, -6, -6],\n",
       "       [-6, -6, -6]])"
      ]
     },
     "execution_count": 22,
     "metadata": {},
     "output_type": "execute_result"
    }
   ],
   "source": [
    "arr2_a -arr2_b"
   ]
  },
  {
   "cell_type": "code",
   "execution_count": null,
   "id": "3c2df1e3",
   "metadata": {},
   "outputs": [
    {
     "data": {
      "text/plain": [
       "array([[1, 2, 3],\n",
       "       [4, 5, 6]])"
      ]
     },
     "execution_count": 25,
     "metadata": {},
     "output_type": "execute_result"
    }
   ],
   "source": [
    "arr2_a = np.arange(1,7).reshape(2,3) # re\n",
    "arr2_a"
   ]
  },
  {
   "cell_type": "code",
   "execution_count": null,
   "id": "95371c7e",
   "metadata": {},
   "outputs": [
    {
     "data": {
      "text/plain": [
       "array([[4, 5, 6],\n",
       "       [7, 8, 9]])"
      ]
     },
     "execution_count": 26,
     "metadata": {},
     "output_type": "execute_result"
    }
   ],
   "source": [
    "rs = arr2_a +3    #각 요소에 3씩 더해줌\n",
    "rs"
   ]
  },
  {
   "cell_type": "code",
   "execution_count": null,
   "id": "1aaa5a93",
   "metadata": {},
   "outputs": [
    {
     "data": {
      "text/plain": [
       "array([2.2, 3.2, 4.2])"
      ]
     },
     "execution_count": 29,
     "metadata": {},
     "output_type": "execute_result"
    }
   ],
   "source": [
    "arr2_b = np.array([1.2])\n",
    "arr2_c = np.array([1,2,3])\n",
    "\n",
    "arr2_b + arr2_c"
   ]
  },
  {
   "cell_type": "code",
   "execution_count": null,
   "id": "b8f6b95d",
   "metadata": {},
   "outputs": [
    {
     "data": {
      "text/plain": [
       "array([[2, 4, 6],\n",
       "       [5, 7, 9]])"
      ]
     },
     "execution_count": 32,
     "metadata": {},
     "output_type": "execute_result"
    }
   ],
   "source": [
    "arr2_b = np.array([[1,2,3],[4,5,6]])\n",
    "arr2_c = np.array([1,2,3])\n",
    "\n",
    "arr2_b + arr2_c"
   ]
  },
  {
   "cell_type": "code",
   "execution_count": null,
   "id": "2bcdaabd",
   "metadata": {},
   "outputs": [],
   "source": [
    "# numpy의 브로드 캐스팅\n",
    "# 조건1. 차원의 크기가 1일때 가능하다\n",
    "# -> 두 배열간의 연산에서 최소한 차원의 크기가 1일때 가능하다(1행이든 1열이든)\n",
    "# 조건2. 차원의 짝이 맞을때 가능하다.\n",
    "# -> 차원에 대해 축의 길이가 동일하면 브로드캐스팅이 가능하다.\n",
    "\n"
   ]
  },
  {
   "cell_type": "markdown",
   "id": "4f80bd3d",
   "metadata": {},
   "source": [
    "### 인덱싱, 슬라이싱"
   ]
  },
  {
   "cell_type": "code",
   "execution_count": null,
   "id": "fc14c07c",
   "metadata": {},
   "outputs": [
    {
     "data": {
      "text/plain": [
       "array([0, 1, 2, 3, 4, 5])"
      ]
     },
     "execution_count": 36,
     "metadata": {},
     "output_type": "execute_result"
    }
   ],
   "source": [
    "arr_1 = np.array([0,1,2,3,4,5])\n",
    "arr_1"
   ]
  },
  {
   "cell_type": "code",
   "execution_count": null,
   "id": "d76435ce",
   "metadata": {},
   "outputs": [
    {
     "data": {
      "text/plain": [
       "2"
      ]
     },
     "execution_count": 37,
     "metadata": {},
     "output_type": "execute_result"
    }
   ],
   "source": [
    "arr_1[2]"
   ]
  },
  {
   "cell_type": "code",
   "execution_count": null,
   "id": "9cbd0497",
   "metadata": {},
   "outputs": [
    {
     "data": {
      "text/plain": [
       "array([[1, 2, 3],\n",
       "       [4, 5, 6]])"
      ]
     },
     "execution_count": 39,
     "metadata": {},
     "output_type": "execute_result"
    }
   ],
   "source": [
    "arr = np.array([[1,2,3],[4,5,6]])\n",
    "arr"
   ]
  },
  {
   "cell_type": "code",
   "execution_count": null,
   "id": "3bd8334c",
   "metadata": {},
   "outputs": [
    {
     "name": "stdout",
     "output_type": "stream",
     "text": [
      "[1 2 3]\n"
     ]
    }
   ],
   "source": [
    "print(arr[0])"
   ]
  },
  {
   "cell_type": "code",
   "execution_count": null,
   "id": "82091dfd",
   "metadata": {},
   "outputs": [
    {
     "name": "stdout",
     "output_type": "stream",
     "text": [
      "1\n"
     ]
    }
   ],
   "source": [
    "print(arr[0][0])"
   ]
  },
  {
   "cell_type": "code",
   "execution_count": null,
   "id": "f2ce20c9",
   "metadata": {},
   "outputs": [
    {
     "name": "stdout",
     "output_type": "stream",
     "text": [
      "1\n"
     ]
    }
   ],
   "source": [
    "print(arr[0,0])   # 그냥 리스트는 안됐는데 이건 됨"
   ]
  },
  {
   "cell_type": "code",
   "execution_count": null,
   "id": "374cc82a",
   "metadata": {},
   "outputs": [
    {
     "data": {
      "text/plain": [
       "array([0, 1, 2, 3, 4, 5, 6, 7, 8, 9])"
      ]
     },
     "execution_count": 48,
     "metadata": {},
     "output_type": "execute_result"
    }
   ],
   "source": [
    "# 1차원 array 슬라이싱\n",
    "arr1 = np.arange(10)\n",
    "arr1\n"
   ]
  },
  {
   "cell_type": "code",
   "execution_count": null,
   "id": "8c5c64c7",
   "metadata": {},
   "outputs": [
    {
     "data": {
      "text/plain": [
       "array([3, 4, 5, 6, 7])"
      ]
     },
     "execution_count": 49,
     "metadata": {},
     "output_type": "execute_result"
    }
   ],
   "source": [
    "# 3 ~ 7까지의 숫자를 슬라이싱 해오세요\n",
    "arr1[3:8]"
   ]
  },
  {
   "cell_type": "code",
   "execution_count": null,
   "id": "59b0beda",
   "metadata": {},
   "outputs": [
    {
     "data": {
      "text/plain": [
       "array([0, 1, 2, 2, 2, 2, 2, 2, 8, 9])"
      ]
     },
     "execution_count": 51,
     "metadata": {},
     "output_type": "execute_result"
    }
   ],
   "source": [
    "# 슬라이싱 한 곳에 데이터를 한번에 넣어보자\n",
    "\n",
    "arr1[3:8 ] = 2\n",
    "arr1"
   ]
  },
  {
   "cell_type": "code",
   "execution_count": null,
   "id": "5807d2c8",
   "metadata": {},
   "outputs": [
    {
     "data": {
      "text/plain": [
       "[0, 1, 2, 77, 77, 77, 77, 77, 8, 9]"
      ]
     },
     "execution_count": 52,
     "metadata": {},
     "output_type": "execute_result"
    }
   ],
   "source": [
    "list1 = [0,1,2,3,4,5,6,7,8,9]\n",
    "list1[3:8] = [77,77,77,77,77]    # 리스트 같은 경우는 값 개수 그대로 넣어줘야한다\n",
    "list1"
   ]
  },
  {
   "cell_type": "code",
   "execution_count": null,
   "id": "88ceaf91",
   "metadata": {},
   "outputs": [
    {
     "data": {
      "text/plain": [
       "array([[ 1,  2,  3,  4,  5,  6,  7,  8,  9, 10],\n",
       "       [11, 12, 13, 14, 15, 16, 17, 18, 19, 20],\n",
       "       [21, 22, 23, 24, 25, 26, 27, 28, 29, 30],\n",
       "       [31, 32, 33, 34, 35, 36, 37, 38, 39, 40],\n",
       "       [41, 42, 43, 44, 45, 46, 47, 48, 49, 50]])"
      ]
     },
     "execution_count": 55,
     "metadata": {},
     "output_type": "execute_result"
    }
   ],
   "source": [
    "# 1. 5행 10열의 1 ~ 50까지 숫자를 가진 넘파이 배열을 만들어보자\n",
    "arr2 = np.arange(1,51).reshape(5,10)\n",
    "arr2"
   ]
  },
  {
   "cell_type": "code",
   "execution_count": null,
   "id": "2eb81529",
   "metadata": {},
   "outputs": [
    {
     "data": {
      "text/plain": [
       "24"
      ]
     },
     "execution_count": 59,
     "metadata": {},
     "output_type": "execute_result"
    }
   ],
   "source": [
    "# 2. 숫자 24를 가져와보자\n",
    "\n",
    "arr2[2][3]\n",
    "arr2[2,3]"
   ]
  },
  {
   "cell_type": "code",
   "execution_count": null,
   "id": "c95de086",
   "metadata": {},
   "outputs": [
    {
     "data": {
      "text/plain": [
       "array([[11, 12, 13, 14, 15, 16, 17, 18, 19, 20],\n",
       "       [21, 22, 23, 24, 25, 26, 27, 28, 29, 30]])"
      ]
     },
     "execution_count": 63,
     "metadata": {},
     "output_type": "execute_result"
    }
   ],
   "source": [
    "# 1번 인덱스 행과 2번 인덱스 행의 전체 열 데이터 가져오기\n",
    "# ,기호는 행, 열을 구분하는 기호\n",
    "# [ 행부터 : 행까지 +1  , 열부터 : 열까지+1]\n",
    "# : 기호는 [시작값 : 끝 값 +1 ] 범위를 지정하는 기호\n",
    "arr2[1: 3, : ]"
   ]
  },
  {
   "cell_type": "code",
   "execution_count": null,
   "id": "e249ed39",
   "metadata": {},
   "outputs": [
    {
     "data": {
      "text/plain": [
       "array([[ 6,  7,  8,  9, 10],\n",
       "       [16, 17, 18, 19, 20],\n",
       "       [26, 27, 28, 29, 30],\n",
       "       [36, 37, 38, 39, 40],\n",
       "       [46, 47, 48, 49, 50]])"
      ]
     },
     "execution_count": 65,
     "metadata": {},
     "output_type": "execute_result"
    }
   ],
   "source": [
    "arr2[ : , 5 :11 ]"
   ]
  },
  {
   "cell_type": "code",
   "execution_count": null,
   "id": "4301e6e7",
   "metadata": {
    "scrolled": false
   },
   "outputs": [
    {
     "data": {
      "text/plain": [
       "array([[ 9, 10],\n",
       "       [19, 20],\n",
       "       [29, 30],\n",
       "       [39, 40],\n",
       "       [49, 50]])"
      ]
     },
     "execution_count": 66,
     "metadata": {},
     "output_type": "execute_result"
    }
   ],
   "source": [
    "arr2 [ : , 8 : ]"
   ]
  },
  {
   "attachments": {
    "image.png": {
     "image/png": "[encoded data removed]"
    }
   },
   "cell_type": "markdown",
   "id": "e28cf69c",
   "metadata": {},
   "source": [
    "![image.png](attachment:image.png)"
   ]
  },
  {
   "cell_type": "code",
   "execution_count": null,
   "id": "b36d8ac3",
   "metadata": {},
   "outputs": [
    {
     "data": {
      "text/plain": [
       "array([[21, 22, 23, 24, 25, 26, 27, 28, 29, 30],\n",
       "       [31, 32, 33, 34, 35, 36, 37, 38, 39, 40]])"
      ]
     },
     "execution_count": 67,
     "metadata": {},
     "output_type": "execute_result"
    }
   ],
   "source": [
    "#1. 빨간\n",
    "arr2[2:4 , :]"
   ]
  },
  {
   "cell_type": "code",
   "execution_count": null,
   "id": "fa5d0637",
   "metadata": {},
   "outputs": [
    {
     "data": {
      "text/plain": [
       "array([[ 5,  6,  7],\n",
       "       [15, 16, 17],\n",
       "       [25, 26, 27],\n",
       "       [35, 36, 37],\n",
       "       [45, 46, 47]])"
      ]
     },
     "execution_count": 70,
     "metadata": {},
     "output_type": "execute_result"
    }
   ],
   "source": [
    "#1. 주황\n",
    "arr2[ : , 4 : 7]"
   ]
  },
  {
   "cell_type": "code",
   "execution_count": null,
   "id": "7c88f94d",
   "metadata": {},
   "outputs": [
    {
     "data": {
      "text/plain": [
       "array([[28, 29],\n",
       "       [38, 39]])"
      ]
     },
     "execution_count": 74,
     "metadata": {},
     "output_type": "execute_result"
    }
   ],
   "source": [
    "#1. 녹색\n",
    "arr2[2:4 , 7 : 9]"
   ]
  },
  {
   "cell_type": "code",
   "execution_count": null,
   "id": "d6922908",
   "metadata": {},
   "outputs": [
    {
     "data": {
      "text/plain": [
       "array([[12, 13],\n",
       "       [22, 23]])"
      ]
     },
     "execution_count": 75,
     "metadata": {},
     "output_type": "execute_result"
    }
   ],
   "source": [
    "#1. 파랑\n",
    "arr2[ 1:3 ,1 :3 ]"
   ]
  },
  {
   "cell_type": "markdown",
   "id": "379571d0",
   "metadata": {},
   "source": [
    "### BMI 지수를 구해봅시다.\n",
    "- 10명의 키와 몸무게를 이용해서 각 사람별 BMI 지수를 구할 꺼에요"
   ]
  },
  {
   "cell_type": "code",
   "execution_count": 92,
   "id": "57302835",
   "metadata": {},
   "outputs": [
    {
     "data": {
      "text/plain": [
       "array([[175.2, 180.3, 175. , 169.2, 185.2, 188. , 177.6, 178.2, 177. ,\n",
       "        179. ],\n",
       "       [ 65.6,  88. ,  79.2,  69.3,  55. ,  71.2,  73. ,  68.9,  74. ,\n",
       "         82. ]])"
      ]
     },
     "execution_count": 92,
     "metadata": {},
     "output_type": "execute_result"
    }
   ],
   "source": [
    "# 넘파이 배열로 외부 데이터 불러오기!\n",
    "data = np.loadtxt('./data/height_weight.txt', delimiter = \",\")\n",
    "data"
   ]
  },
  {
   "cell_type": "code",
   "execution_count": 93,
   "id": "b9aa6ca7",
   "metadata": {},
   "outputs": [
    {
     "name": "stdout",
     "output_type": "stream",
     "text": [
      "배열의 크기 : (2, 10)\n",
      "배열의 차원 : 2\n",
      "배열의 개수 : 20\n"
     ]
    }
   ],
   "source": [
    "# 1. 데이터의 속성알아보기\n",
    "print(f\"배열의 크기 : {data.shape}\")\n",
    "print(f\"배열의 차원 : {data.ndim}\")\n",
    "print(f\"배열의 개수 : {data.size}\")"
   ]
  },
  {
   "cell_type": "code",
   "execution_count": 94,
   "id": "2d07c9fb",
   "metadata": {},
   "outputs": [
    {
     "name": "stdout",
     "output_type": "stream",
     "text": [
      "[175.2 180.3 175.  169.2 185.2 188.  177.6 178.2 177.  179. ]\n",
      "[65.6 88.  79.2 69.3 55.  71.2 73.  68.9 74.  82. ]\n"
     ]
    }
   ],
   "source": [
    "# 2. 넘파이 배열에서 키와 몸무게 데이터를 각각 변수에 나눠 담아주기\n",
    "\n",
    "height = data[0]\n",
    "weight = data[1]\n",
    "\n",
    "print(height)\n",
    "print(weight)"
   ]
  },
  {
   "cell_type": "code",
   "execution_count": 95,
   "id": "94d325ae",
   "metadata": {},
   "outputs": [
    {
     "name": "stdout",
     "output_type": "stream",
     "text": [
      "[21.37153104 27.07018468 25.86122449 24.20652885 16.03543423 20.14486193\n",
      " 23.14392095 21.69720651 23.62028791 25.59220998]\n"
     ]
    }
   ],
   "source": [
    "# 3. 주어진 BMI지수 공식을 코드로 구현해서 BMI 지수 구해보기\n",
    "# BMI = 몸무게 / (키*키)\n",
    "\n",
    "mheight = height * 0.01\n",
    "\n",
    "result = (weight / (mheight**2))\n",
    "\n",
    "print(result)"
   ]
  },
  {
   "cell_type": "markdown",
   "id": "aebf90b1",
   "metadata": {},
   "source": [
    "### Boolean 색인(인덱싱)\n",
    "\n",
    "배열 안에서 조건을 충족하는 True인 값들만 추출해주는 방법\n",
    "\n",
    "- 특정 조건에 맞으면 True 아니면 False 값으로 배열을 만들어서 조건에 맞는 True 값만 접근하는 방식"
   ]
  },
  {
   "cell_type": "code",
   "execution_count": 96,
   "id": "77221ce5",
   "metadata": {},
   "outputs": [
    {
     "data": {
      "text/plain": [
       "array([76, 88, 56, 66, 66, 75, 76, 55])"
      ]
     },
     "execution_count": 96,
     "metadata": {},
     "output_type": "execute_result"
    }
   ],
   "source": [
    "# 과체중인 사람을 찾아내보자  --> 어떻게? : 불리언 인덱싱을 이용해서\n",
    "\n",
    "# 50 ~ 99까지 8개의 값을 가지는 1차원 배열을 만들어보자\n",
    "arr10 = np.array(np.random.randint(50,100,size = 8))\n",
    "arr10"
   ]
  },
  {
   "cell_type": "code",
   "execution_count": 97,
   "id": "c1d039f3",
   "metadata": {},
   "outputs": [
    {
     "data": {
      "text/plain": [
       "array([False,  True, False, False, False, False, False, False])"
      ]
     },
     "execution_count": 97,
     "metadata": {},
     "output_type": "execute_result"
    }
   ],
   "source": [
    "# 80 이상의 숫자만 걸러내 보자!\n",
    "arr10 >= 80       # -> 이것은 boolean 데이터 : True or False 이다."
   ]
  },
  {
   "cell_type": "code",
   "execution_count": 98,
   "id": "972955b4",
   "metadata": {},
   "outputs": [
    {
     "data": {
      "text/plain": [
       "array([88])"
      ]
     },
     "execution_count": 98,
     "metadata": {},
     "output_type": "execute_result"
    }
   ],
   "source": [
    "# 이렇게 대놓고 안에 boolean 데이터를 넣어줘도 값은 가지고 나온다\n",
    "arr10[arr10 >= 80]      "
   ]
  },
  {
   "cell_type": "code",
   "execution_count": 99,
   "id": "490591ef",
   "metadata": {},
   "outputs": [
    {
     "data": {
      "text/plain": [
       "array([76, 88, 56, 66, 66, 76])"
      ]
     },
     "execution_count": 99,
     "metadata": {},
     "output_type": "execute_result"
    }
   ],
   "source": [
    "# arr10 에서 짝수인 값들만 인덱싱 해오세요\n",
    "arr10[arr10 % 2 == 0]       # True값만 가지고 온 것임!"
   ]
  },
  {
   "cell_type": "code",
   "execution_count": 101,
   "id": "403be1cb",
   "metadata": {},
   "outputs": [
    {
     "data": {
      "text/plain": [
       "array([21, 27, 25, 24, 16, 20, 23, 21, 23, 25], dtype=int64)"
      ]
     },
     "execution_count": 101,
     "metadata": {},
     "output_type": "execute_result"
    }
   ],
   "source": [
    "# 위에서 구한 BMI지수를 가지고 과체중을 걸러내보자\n",
    "# 과체중의 기준은 23이상 / 25 미만\n",
    "# 1. 위에서 구한 BMI 지수를 정수형으로 바꿔주세요\n",
    "\n",
    "arr = np.array(result,dtype = \"int64\")\n",
    "# arr = arr.astype('int64')\n",
    "arr\n",
    "\n",
    "# # 2. 정수형으로 바꾼 BMI지수를 이용해서 과체중인 사람을 불리언 인덱싱 해오세요\n",
    "# arr[(arr >= 23) & (arr < 25)]"
   ]
  },
  {
   "cell_type": "markdown",
   "id": "7c0b186f",
   "metadata": {},
   "source": [
    "## 유니버셜 함수\n",
    "- 피피티 캡쳐해둠"
   ]
  },
  {
   "cell_type": "code",
   "execution_count": null,
   "id": "4598eaa3",
   "metadata": {},
   "outputs": [
    {
     "data": {
      "text/plain": [
       "array([[1, 1, 6, 2, 9],\n",
       "       [5, 9, 4, 1, 2]])"
      ]
     },
     "execution_count": 3,
     "metadata": {},
     "output_type": "execute_result"
    }
   ],
   "source": [
    "# sum() : 값들의 합계를 구하는 함수\n",
    "arr = np.random.randint(1,10,size = (2,5))\n",
    "arr"
   ]
  },
  {
   "cell_type": "code",
   "execution_count": null,
   "id": "0bbdcacd",
   "metadata": {},
   "outputs": [
    {
     "data": {
      "text/plain": [
       "40"
      ]
     },
     "execution_count": 4,
     "metadata": {},
     "output_type": "execute_result"
    }
   ],
   "source": [
    "arr.sum() # 파이썬 기본에서 제공하는 합계 함수"
   ]
  },
  {
   "cell_type": "code",
   "execution_count": null,
   "id": "e44d7f51",
   "metadata": {},
   "outputs": [
    {
     "data": {
      "text/plain": [
       "40"
      ]
     },
     "execution_count": 5,
     "metadata": {},
     "output_type": "execute_result"
    }
   ],
   "source": [
    "np.sum(arr)  #넘파이에서 제공하는 함수 "
   ]
  },
  {
   "cell_type": "code",
   "execution_count": null,
   "id": "835a2679",
   "metadata": {},
   "outputs": [
    {
     "data": {
      "text/plain": [
       "4.0"
      ]
     },
     "execution_count": 6,
     "metadata": {},
     "output_type": "execute_result"
    }
   ],
   "source": [
    "# mean() : 값들의 평균을 구하는 함수\n",
    "arr.mean()"
   ]
  },
  {
   "cell_type": "code",
   "execution_count": null,
   "id": "3e46160d",
   "metadata": {},
   "outputs": [
    {
     "data": {
      "text/plain": [
       "4.0"
      ]
     },
     "execution_count": 7,
     "metadata": {},
     "output_type": "execute_result"
    }
   ],
   "source": [
    "np.mean(arr)"
   ]
  },
  {
   "cell_type": "code",
   "execution_count": null,
   "id": "f7292571",
   "metadata": {},
   "outputs": [
    {
     "data": {
      "text/plain": [
       "array([1, 2, 3, 4, 5])"
      ]
     },
     "execution_count": 9,
     "metadata": {},
     "output_type": "execute_result"
    }
   ],
   "source": [
    "# np.sqrt() : 제곱근을 구하는 함수( 2 = 1,xxx인것처럼)\n",
    "arr2 = np.arange(1,6)\n",
    "arr2"
   ]
  },
  {
   "cell_type": "code",
   "execution_count": null,
   "id": "0b83380e",
   "metadata": {},
   "outputs": [
    {
     "data": {
      "text/plain": [
       "array([1.        , 1.41421356, 1.73205081, 2.        , 2.23606798])"
      ]
     },
     "execution_count": 10,
     "metadata": {},
     "output_type": "execute_result"
    }
   ],
   "source": [
    "np.sqrt(arr2)"
   ]
  },
  {
   "cell_type": "code",
   "execution_count": null,
   "id": "e59cfbbf",
   "metadata": {},
   "outputs": [
    {
     "data": {
      "text/plain": [
       "array([-1, -2, -3, -4, -5])"
      ]
     },
     "execution_count": 11,
     "metadata": {},
     "output_type": "execute_result"
    }
   ],
   "source": [
    "#np.abs() : 절대 값 구하기\n",
    "arr3 = np.array([-1,-2,-3,-4,-5])\n",
    "arr3"
   ]
  },
  {
   "cell_type": "code",
   "execution_count": null,
   "id": "f761333d",
   "metadata": {},
   "outputs": [
    {
     "data": {
      "text/plain": [
       "array([1, 2, 3, 4, 5])"
      ]
     },
     "execution_count": 12,
     "metadata": {},
     "output_type": "execute_result"
    }
   ],
   "source": [
    "np.abs(arr3)"
   ]
  },
  {
   "cell_type": "markdown",
   "id": "bfc4c33a",
   "metadata": {},
   "source": [
    "## Numpy 최종실습\n",
    "- 영화 평점 데이터 분석해보기"
   ]
  },
  {
   "attachments": {
    "image.png": {
     "image/png": "[encoded data removed]"
    }
   },
   "cell_type": "markdown",
   "id": "e84afc4c",
   "metadata": {},
   "source": [
    "![image.png](attachment:image.png)"
   ]
  },
  {
   "cell_type": "code",
   "execution_count": 102,
   "id": "e0cc6b16",
   "metadata": {},
   "outputs": [
    {
     "data": {
      "text/plain": [
       "array([[        1,      1193,         5, 978300760],\n",
       "       [        1,       661,         3, 978302109],\n",
       "       [        1,       914,         3, 978301968],\n",
       "       ...,\n",
       "       [     6040,       562,         5, 956704746],\n",
       "       [     6040,      1096,         4, 956715648],\n",
       "       [     6040,      1097,         4, 956715569]], dtype=int64)"
      ]
     },
     "execution_count": 102,
     "metadata": {},
     "output_type": "execute_result"
    }
   ],
   "source": [
    "#데이터 불러오기\n",
    "data = np.loadtxt('./data/ratings.dat', delimiter = '::').astype('int64')\n",
    "data\n"
   ]
  },
  {
   "cell_type": "code",
   "execution_count": 103,
   "id": "15c27712",
   "metadata": {},
   "outputs": [
    {
     "name": "stdout",
     "output_type": "stream",
     "text": [
      "배열의 크기 : (1000209, 4)\n",
      "배열의 차원 : 2\n",
      "배열의 개수 : 4000836\n"
     ]
    }
   ],
   "source": [
    "# 데이터 확인하기(크기 타입 개수 차원)\n",
    "\n",
    "print(f\"배열의 크기 : {data.shape}\")\n",
    "print(f\"배열의 차원 : {data.ndim}\")\n",
    "print(f\"배열의 개수 : {data.size}\")\n"
   ]
  },
  {
   "cell_type": "code",
   "execution_count": 104,
   "id": "07c94965",
   "metadata": {},
   "outputs": [
    {
     "data": {
      "text/plain": [
       "3.581564453029317"
      ]
     },
     "execution_count": 104,
     "metadata": {},
     "output_type": "execute_result"
    }
   ],
   "source": [
    "# 전체 평점 평균 구해보기\n",
    "\n",
    "user_mean = np.array(data[ : ,2:3])\n",
    "user_mean.mean()\n"
   ]
  },
  {
   "attachments": {
    "image.png": {
     "image/png": "[encoded data removed]"
    }
   },
   "cell_type": "markdown",
   "id": "3272d96c",
   "metadata": {},
   "source": [
    "![image.png](attachment:image.png)"
   ]
  },
  {
   "cell_type": "code",
   "execution_count": 105,
   "id": "cfcd70ec",
   "metadata": {},
   "outputs": [
    {
     "data": {
      "text/plain": [
       "array([   1,    2,    3, ..., 6038, 6039, 6040], dtype=int64)"
      ]
     },
     "execution_count": 105,
     "metadata": {},
     "output_type": "execute_result"
    }
   ],
   "source": [
    "# 4. 각 사용자별 평점 평균 구하기\n",
    "# np.unique() : 중복 값을 제거하고 고유값을 가져오는 함수\n",
    "user_id = np.unique(data[ : , 0])\n",
    "user_id\n"
   ]
  },
  {
   "cell_type": "code",
   "execution_count": 106,
   "id": "fb4813ac",
   "metadata": {},
   "outputs": [
    {
     "data": {
      "text/plain": [
       "array([   1,    1,    1, ..., 6040, 6040, 6040], dtype=int64)"
      ]
     },
     "execution_count": 106,
     "metadata": {},
     "output_type": "execute_result"
    }
   ],
   "source": [
    "# 사용자 아이디만 Boolean Indexing 해오기\n",
    "\n",
    "\n",
    "id_one = data[ : , 0]\n",
    "id_one\n"
   ]
  },
  {
   "cell_type": "code",
   "execution_count": 107,
   "id": "3b0c5b38",
   "metadata": {},
   "outputs": [
    {
     "data": {
      "text/plain": [
       "array([[        1,      1193,         5, 978300760],\n",
       "       [        1,       661,         3, 978302109],\n",
       "       [        1,       914,         3, 978301968],\n",
       "       [        1,      3408,         4, 978300275],\n",
       "       [        1,      2355,         5, 978824291],\n",
       "       [        1,      1197,         3, 978302268],\n",
       "       [        1,      1287,         5, 978302039],\n",
       "       [        1,      2804,         5, 978300719],\n",
       "       [        1,       594,         4, 978302268],\n",
       "       [        1,       919,         4, 978301368],\n",
       "       [        1,       595,         5, 978824268],\n",
       "       [        1,       938,         4, 978301752],\n",
       "       [        1,      2398,         4, 978302281],\n",
       "       [        1,      2918,         4, 978302124],\n",
       "       [        1,      1035,         5, 978301753],\n",
       "       [        1,      2791,         4, 978302188],\n",
       "       [        1,      2687,         3, 978824268],\n",
       "       [        1,      2018,         4, 978301777],\n",
       "       [        1,      3105,         5, 978301713],\n",
       "       [        1,      2797,         4, 978302039],\n",
       "       [        1,      2321,         3, 978302205],\n",
       "       [        1,       720,         3, 978300760],\n",
       "       [        1,      1270,         5, 978300055],\n",
       "       [        1,       527,         5, 978824195],\n",
       "       [        1,      2340,         3, 978300103],\n",
       "       [        1,        48,         5, 978824351],\n",
       "       [        1,      1097,         4, 978301953],\n",
       "       [        1,      1721,         4, 978300055],\n",
       "       [        1,      1545,         4, 978824139],\n",
       "       [        1,       745,         3, 978824268],\n",
       "       [        1,      2294,         4, 978824291],\n",
       "       [        1,      3186,         4, 978300019],\n",
       "       [        1,      1566,         4, 978824330],\n",
       "       [        1,       588,         4, 978824268],\n",
       "       [        1,      1907,         4, 978824330],\n",
       "       [        1,       783,         4, 978824291],\n",
       "       [        1,      1836,         5, 978300172],\n",
       "       [        1,      1022,         5, 978300055],\n",
       "       [        1,      2762,         4, 978302091],\n",
       "       [        1,       150,         5, 978301777],\n",
       "       [        1,         1,         5, 978824268],\n",
       "       [        1,      1961,         5, 978301590],\n",
       "       [        1,      1962,         4, 978301753],\n",
       "       [        1,      2692,         4, 978301570],\n",
       "       [        1,       260,         4, 978300760],\n",
       "       [        1,      1028,         5, 978301777],\n",
       "       [        1,      1029,         5, 978302205],\n",
       "       [        1,      1207,         4, 978300719],\n",
       "       [        1,      2028,         5, 978301619],\n",
       "       [        1,       531,         4, 978302149],\n",
       "       [        1,      3114,         4, 978302174],\n",
       "       [        1,       608,         4, 978301398],\n",
       "       [        1,      1246,         4, 978302091]], dtype=int64)"
      ]
     },
     "execution_count": 107,
     "metadata": {},
     "output_type": "execute_result"
    }
   ],
   "source": [
    "data[id_one == 1]"
   ]
  },
  {
   "cell_type": "code",
   "execution_count": 108,
   "id": "d9ced310",
   "metadata": {},
   "outputs": [
    {
     "data": {
      "text/plain": [
       "array([[        1,      1193,         5, 978300760],\n",
       "       [        1,       661,         3, 978302109],\n",
       "       [        1,       914,         3, 978301968],\n",
       "       [        1,      3408,         4, 978300275],\n",
       "       [        1,      2355,         5, 978824291],\n",
       "       [        1,      1197,         3, 978302268],\n",
       "       [        1,      1287,         5, 978302039],\n",
       "       [        1,      2804,         5, 978300719],\n",
       "       [        1,       594,         4, 978302268],\n",
       "       [        1,       919,         4, 978301368],\n",
       "       [        1,       595,         5, 978824268],\n",
       "       [        1,       938,         4, 978301752],\n",
       "       [        1,      2398,         4, 978302281],\n",
       "       [        1,      2918,         4, 978302124],\n",
       "       [        1,      1035,         5, 978301753],\n",
       "       [        1,      2791,         4, 978302188],\n",
       "       [        1,      2687,         3, 978824268],\n",
       "       [        1,      2018,         4, 978301777],\n",
       "       [        1,      3105,         5, 978301713],\n",
       "       [        1,      2797,         4, 978302039],\n",
       "       [        1,      2321,         3, 978302205],\n",
       "       [        1,       720,         3, 978300760],\n",
       "       [        1,      1270,         5, 978300055],\n",
       "       [        1,       527,         5, 978824195],\n",
       "       [        1,      2340,         3, 978300103],\n",
       "       [        1,        48,         5, 978824351],\n",
       "       [        1,      1097,         4, 978301953],\n",
       "       [        1,      1721,         4, 978300055],\n",
       "       [        1,      1545,         4, 978824139],\n",
       "       [        1,       745,         3, 978824268],\n",
       "       [        1,      2294,         4, 978824291],\n",
       "       [        1,      3186,         4, 978300019],\n",
       "       [        1,      1566,         4, 978824330],\n",
       "       [        1,       588,         4, 978824268],\n",
       "       [        1,      1907,         4, 978824330],\n",
       "       [        1,       783,         4, 978824291],\n",
       "       [        1,      1836,         5, 978300172],\n",
       "       [        1,      1022,         5, 978300055],\n",
       "       [        1,      2762,         4, 978302091],\n",
       "       [        1,       150,         5, 978301777],\n",
       "       [        1,         1,         5, 978824268],\n",
       "       [        1,      1961,         5, 978301590],\n",
       "       [        1,      1962,         4, 978301753],\n",
       "       [        1,      2692,         4, 978301570],\n",
       "       [        1,       260,         4, 978300760],\n",
       "       [        1,      1028,         5, 978301777],\n",
       "       [        1,      1029,         5, 978302205],\n",
       "       [        1,      1207,         4, 978300719],\n",
       "       [        1,      2028,         5, 978301619],\n",
       "       [        1,       531,         4, 978302149],\n",
       "       [        1,      3114,         4, 978302174],\n",
       "       [        1,       608,         4, 978301398],\n",
       "       [        1,      1246,         4, 978302091]], dtype=int64)"
      ]
     },
     "execution_count": 108,
     "metadata": {},
     "output_type": "execute_result"
    }
   ],
   "source": [
    "bol_id_one = data[id_one == 1]\n",
    "bol_id_one"
   ]
  },
  {
   "cell_type": "code",
   "execution_count": 109,
   "id": "10297fe4",
   "metadata": {},
   "outputs": [
    {
     "data": {
      "text/plain": [
       "array([5, 3, 3, 4, 5, 3, 5, 5, 4, 4, 5, 4, 4, 4, 5, 4, 3, 4, 5, 4, 3, 3,\n",
       "       5, 5, 3, 5, 4, 4, 4, 3, 4, 4, 4, 4, 4, 4, 5, 5, 4, 5, 5, 5, 4, 4,\n",
       "       4, 5, 5, 4, 5, 4, 4, 4, 4], dtype=int64)"
      ]
     },
     "execution_count": 109,
     "metadata": {},
     "output_type": "execute_result"
    }
   ],
   "source": [
    "bol_id_one[ : ,2]\n"
   ]
  },
  {
   "cell_type": "code",
   "execution_count": 110,
   "id": "252c9e3e",
   "metadata": {},
   "outputs": [
    {
     "data": {
      "text/plain": [
       "4.188679245283019"
      ]
     },
     "execution_count": 110,
     "metadata": {},
     "output_type": "execute_result"
    }
   ],
   "source": [
    "np.mean(bol_id_one[ : , 2])"
   ]
  },
  {
   "cell_type": "code",
   "execution_count": 111,
   "id": "d78fd8fe",
   "metadata": {},
   "outputs": [],
   "source": [
    "user_mean_list = []"
   ]
  },
  {
   "cell_type": "code",
   "execution_count": 112,
   "id": "44c5bc3f",
   "metadata": {},
   "outputs": [
    {
     "data": {
      "text/plain": [
       "[[1, 4.188679245283019],\n",
       " [2, 3.7131782945736433],\n",
       " [3, 3.9019607843137254],\n",
       " [4, 4.190476190476191],\n",
       " [5, 3.1464646464646466],\n",
       " [6, 3.9014084507042255],\n",
       " [7, 4.32258064516129],\n",
       " [8, 3.884892086330935],\n",
       " [9, 3.7358490566037736],\n",
       " [10, 4.114713216957606],\n",
       " [11, 3.2773722627737225],\n",
       " [12, 3.8260869565217392],\n",
       " [13, 3.388888888888889],\n",
       " [14, 3.32],\n",
       " [15, 3.3233830845771144],\n",
       " [16, 3.0285714285714285],\n",
       " [17, 4.075829383886256],\n",
       " [18, 3.6491803278688524],\n",
       " [19, 3.5725490196078433],\n",
       " [20, 4.083333333333333],\n",
       " [21, 2.909090909090909],\n",
       " [22, 3.0673400673400675],\n",
       " [23, 3.3157894736842106],\n",
       " [24, 3.948529411764706],\n",
       " [25, 3.7411764705882353],\n",
       " [26, 2.96],\n",
       " [27, 4.171428571428572],\n",
       " [28, 3.7570093457943927],\n",
       " [29, 3.5833333333333335],\n",
       " [30, 3.488372093023256],\n",
       " [31, 3.73109243697479],\n",
       " [32, 3.625],\n",
       " [33, 3.498721227621483],\n",
       " [34, 3.8658536585365852],\n",
       " [35, 3.54040404040404],\n",
       " [36, 4.199430199430199],\n",
       " [37, 3.69811320754717],\n",
       " [38, 3.58],\n",
       " [39, 3.564516129032258],\n",
       " [40, 3.4479166666666665],\n",
       " [41, 3.48],\n",
       " [42, 3.74025974025974],\n",
       " [43, 4.125],\n",
       " [44, 3.6321243523316062],\n",
       " [45, 2.946127946127946],\n",
       " [46, 4.219512195121951],\n",
       " [47, 3.909090909090909],\n",
       " [48, 3.068561872909699],\n",
       " [49, 3.712962962962963],\n",
       " [50, 3.0697674418604652],\n",
       " [51, 3.825],\n",
       " [52, 3.5569620253164556],\n",
       " [53, 4.2368421052631575],\n",
       " [54, 4.025],\n",
       " [55, 4.12],\n",
       " [56, 3.970149253731343],\n",
       " [57, 2.90625],\n",
       " [58, 3.9725400457665905],\n",
       " [59, 3.4741784037558685],\n",
       " [60, 3.414285714285714],\n",
       " [61, 2.7777777777777777],\n",
       " [62, 3.566265060240964],\n",
       " [63, 3.4285714285714284],\n",
       " [64, 4.148148148148148],\n",
       " [65, 4.347107438016529],\n",
       " [66, 3.8461538461538463],\n",
       " [67, 4.296875],\n",
       " [68, 3.75],\n",
       " [69, 4.153846153846154],\n",
       " [70, 3.7037037037037037],\n",
       " [71, 3.7586206896551726],\n",
       " [72, 3.697674418604651],\n",
       " [73, 3.364705882352941],\n",
       " [74, 4.046511627906977],\n",
       " [75, 4.005714285714285],\n",
       " [76, 4.172413793103448],\n",
       " [77, 2.948717948717949],\n",
       " [78, 3.657142857142857],\n",
       " [79, 3.6451612903225805],\n",
       " [80, 3.8958333333333335],\n",
       " [81, 4.4186046511627906],\n",
       " [82, 4.016949152542373],\n",
       " [83, 3.5757575757575757],\n",
       " [84, 3.838709677419355],\n",
       " [85, 3.1025641025641026],\n",
       " [86, 4.3125],\n",
       " [87, 2.8135593220338984],\n",
       " [88, 4.147058823529412],\n",
       " [89, 3.238095238095238],\n",
       " [90, 3.511111111111111],\n",
       " [91, 4.704545454545454],\n",
       " [92, 2.7581395348837208],\n",
       " [93, 2.9727272727272727],\n",
       " [94, 3.857142857142857],\n",
       " [95, 3.595959595959596],\n",
       " [96, 3.6049382716049383],\n",
       " [97, 4.474025974025974],\n",
       " [98, 3.8],\n",
       " [99, 3.2149532710280373],\n",
       " [100, 3.026315789473684],\n",
       " [101, 4.679245283018868],\n",
       " [102, 3.128787878787879],\n",
       " [103, 4.052173913043478],\n",
       " [104, 3.347826086956522],\n",
       " [105, 4.295081967213115],\n",
       " [106, 4.0212765957446805],\n",
       " [107, 3.743801652892562],\n",
       " [108, 3.135135135135135],\n",
       " [109, 4.0],\n",
       " [110, 3.25],\n",
       " [111, 3.7282608695652173],\n",
       " [112, 4.183333333333334],\n",
       " [113, 3.5],\n",
       " [114, 3.693877551020408],\n",
       " [115, 3.8421052631578947],\n",
       " [116, 3.802325581395349],\n",
       " [117, 3.299009900990099],\n",
       " [118, 3.767857142857143],\n",
       " [119, 3.5428571428571427],\n",
       " [120, 3.619047619047619],\n",
       " [121, 4.416666666666667],\n",
       " [122, 2.9649122807017543],\n",
       " [123, 3.401315789473684],\n",
       " [124, 4.173913043478261],\n",
       " [125, 4.098591549295775],\n",
       " [126, 4.0],\n",
       " [127, 3.8448275862068964],\n",
       " [128, 4.363636363636363],\n",
       " [129, 4.025316455696203],\n",
       " [130, 4.311111111111111],\n",
       " [131, 3.3966101694915256],\n",
       " [132, 3.966292134831461],\n",
       " [133, 3.7705882352941176],\n",
       " [134, 2.7158469945355193],\n",
       " [135, 3.657142857142857],\n",
       " [136, 3.074074074074074],\n",
       " [137, 3.611940298507463],\n",
       " [138, 4.492307692307692],\n",
       " [139, 3.8816326530612244],\n",
       " [140, 3.8181818181818183],\n",
       " [141, 3.6956521739130435],\n",
       " [142, 3.3404255319148937],\n",
       " [143, 3.5441176470588234],\n",
       " [144, 3.46875],\n",
       " [145, 3.0],\n",
       " [146, 3.7699530516431925],\n",
       " [147, 3.5026737967914436],\n",
       " [148, 3.733974358974359],\n",
       " [149, 3.9408783783783785],\n",
       " [150, 4.021551724137931],\n",
       " [151, 3.653927813163482],\n",
       " [152, 4.125],\n",
       " [153, 4.076923076923077],\n",
       " [154, 3.090909090909091],\n",
       " [155, 2.96875],\n",
       " [156, 4.236486486486487],\n",
       " [157, 3.718969555035129],\n",
       " [158, 4.0],\n",
       " [159, 3.7777777777777777],\n",
       " [160, 3.5],\n",
       " [161, 4.4713804713804715],\n",
       " [162, 4.121495327102804],\n",
       " [163, 2.1828793774319064],\n",
       " [164, 4.384615384615385],\n",
       " [165, 3.981818181818182],\n",
       " [166, 3.6878048780487807],\n",
       " [167, 2.9310344827586206],\n",
       " [168, 3.8461538461538463],\n",
       " [169, 3.5670289855072466],\n",
       " [170, 3.9885057471264367],\n",
       " [171, 4.0],\n",
       " [172, 3.608695652173913],\n",
       " [173, 3.9679144385026737],\n",
       " [174, 3.649484536082474],\n",
       " [175, 3.9810725552050474],\n",
       " [176, 3.6153846153846154],\n",
       " [177, 4.113636363636363],\n",
       " [178, 3.8434782608695652],\n",
       " [179, 2.6545454545454548],\n",
       " [180, 3.694915254237288],\n",
       " [181, 3.604651162790698],\n",
       " [182, 3.8313253012048194],\n",
       " [183, 4.099009900990099],\n",
       " [184, 4.083333333333333],\n",
       " [185, 3.588235294117647],\n",
       " [186, 4.254098360655738],\n",
       " [187, 4.083932853717027],\n",
       " [188, 3.1690140845070425],\n",
       " [189, 4.0],\n",
       " [190, 3.6993464052287583],\n",
       " [191, 3.3333333333333335],\n",
       " [192, 3.0914285714285716],\n",
       " [193, 3.677685950413223],\n",
       " [194, 3.983050847457627],\n",
       " [195, 3.889294403892944],\n",
       " [196, 4.0625],\n",
       " [197, 3.909090909090909],\n",
       " [198, 3.7493403693931397],\n",
       " [199, 3.2761194029850746],\n",
       " [200, 3.423076923076923],\n",
       " [201, 3.954022988505747],\n",
       " [202, 3.2492537313432837],\n",
       " [203, 2.2913385826771653],\n",
       " [204, 3.5560538116591927],\n",
       " [205, 4.0588235294117645],\n",
       " [206, 3.066666666666667],\n",
       " [207, 3.5217391304347827],\n",
       " [208, 3.652173913043478],\n",
       " [209, 3.16],\n",
       " [210, 4.027272727272727],\n",
       " [211, 3.857142857142857],\n",
       " [212, 3.8545454545454545],\n",
       " [213, 4.2272727272727275],\n",
       " [214, 3.1626506024096384],\n",
       " [215, 4.5588235294117645],\n",
       " [216, 3.2317380352644838],\n",
       " [217, 3.7],\n",
       " [218, 3.0930232558139537],\n",
       " [219, 3.3333333333333335],\n",
       " [220, 4.215686274509804],\n",
       " [221, 3.2413793103448274],\n",
       " [222, 4.0875],\n",
       " [223, 3.44140625],\n",
       " [224, 3.4019607843137254],\n",
       " [225, 3.4330708661417324],\n",
       " [226, 3.5714285714285716],\n",
       " [227, 3.2857142857142856],\n",
       " [228, 4.0],\n",
       " [229, 3.4292452830188678],\n",
       " [230, 4.094972067039106],\n",
       " [231, 4.22680412371134],\n",
       " [232, 3.566666666666667],\n",
       " [233, 4.584905660377358],\n",
       " [234, 4.310344827586207],\n",
       " [235, 4.086363636363636],\n",
       " [236, 3.693548387096774],\n",
       " [237, 3.4036144578313254],\n",
       " [238, 3.7868217054263567],\n",
       " [239, 4.140845070422535],\n",
       " [240, 3.300699300699301],\n",
       " [241, 3.9649122807017543],\n",
       " [242, 3.2051282051282053],\n",
       " [243, 3.606060606060606],\n",
       " [244, 4.105882352941176],\n",
       " [245, 2.6714659685863875],\n",
       " [246, 4.0],\n",
       " [247, 3.935483870967742],\n",
       " [248, 4.205882352941177],\n",
       " [249, 3.9454545454545453],\n",
       " [250, 3.75],\n",
       " [251, 3.5753424657534247],\n",
       " [252, 4.016666666666667],\n",
       " [253, 3.9245283018867925],\n",
       " [254, 3.782608695652174],\n",
       " [255, 4.016393442622951],\n",
       " [256, 3.8526315789473684],\n",
       " [257, 4.452830188679245],\n",
       " [258, 3.717241379310345],\n",
       " [259, 4.0359712230215825],\n",
       " [260, 3.311688311688312],\n",
       " [261, 3.5762711864406778],\n",
       " [262, 3.330188679245283],\n",
       " [263, 3.6630434782608696],\n",
       " [264, 2.785416666666667],\n",
       " [265, 4.1938775510204085],\n",
       " [266, 4.52],\n",
       " [267, 3.3893129770992365],\n",
       " [268, 3.3946360153256707],\n",
       " [269, 3.8],\n",
       " [270, 4.198412698412699],\n",
       " [271, 3.9583333333333335],\n",
       " [272, 3.6535269709543567],\n",
       " [273, 3.727272727272727],\n",
       " [274, 4.243243243243243],\n",
       " [275, 4.247191011235955],\n",
       " [276, 3.5217391304347827],\n",
       " [277, 3.727272727272727],\n",
       " [278, 3.9646464646464645],\n",
       " [279, 2.872340425531915],\n",
       " [280, 3.94],\n",
       " [281, 3.891891891891892],\n",
       " [282, 3.5172413793103448],\n",
       " [283, 4.962962962962963],\n",
       " [284, 3.021231422505308],\n",
       " [285, 4.16546762589928],\n",
       " [286, 3.883720930232558],\n",
       " [287, 3.70873786407767],\n",
       " [288, 4.589285714285714],\n",
       " [289, 3.9054054054054053],\n",
       " [290, 3.303030303030303],\n",
       " [291, 4.137254901960785],\n",
       " [292, 3.7560975609756095],\n",
       " [293, 3.2460567823343847],\n",
       " [294, 3.489795918367347],\n",
       " [295, 3.764397905759162],\n",
       " [296, 3.597938144329897],\n",
       " [297, 4.0],\n",
       " [298, 3.925925925925926],\n",
       " [299, 4.163461538461538],\n",
       " [300, 4.180722891566265],\n",
       " [301, 3.8011204481792715],\n",
       " [302, 2.8692893401015227],\n",
       " [303, 3.861244019138756],\n",
       " [304, 3.5555555555555554],\n",
       " [305, 2.5605095541401273],\n",
       " [306, 3.937823834196891],\n",
       " [307, 4.593406593406593],\n",
       " [308, 3.385996409335727],\n",
       " [309, 4.040650406504065],\n",
       " [310, 3.4260089686098656],\n",
       " [311, 4.15],\n",
       " [312, 3.736842105263158],\n",
       " [313, 4.038461538461538],\n",
       " [314, 3.696245733788396],\n",
       " [315, 3.8636363636363638],\n",
       " [316, 4.116883116883117],\n",
       " [317, 3.8095238095238093],\n",
       " [318, 3.9523809523809526],\n",
       " [319, 3.263522884882108],\n",
       " [320, 4.238095238095238],\n",
       " [321, 3.2612612612612613],\n",
       " [322, 4.45],\n",
       " [323, 3.788135593220339],\n",
       " [324, 3.3289473684210527],\n",
       " [325, 4.046511627906977],\n",
       " [326, 3.3350923482849604],\n",
       " [327, 3.669491525423729],\n",
       " [328, 3.032258064516129],\n",
       " [329, 2.7264397905759163],\n",
       " [330, 4.0131578947368425],\n",
       " [331, 3.7654109589041096],\n",
       " [332, 4.2835820895522385],\n",
       " [333, 3.352422907488987],\n",
       " [334, 3.9508196721311477],\n",
       " [335, 2.5],\n",
       " [336, 4.308411214953271],\n",
       " [337, 3.525252525252525],\n",
       " [338, 3.665745856353591],\n",
       " [339, 4.024193548387097],\n",
       " [340, 3.5277777777777777],\n",
       " [341, 4.2],\n",
       " [342, 3.6910569105691056],\n",
       " [343, 4.047138047138047],\n",
       " [344, 2.9555555555555557],\n",
       " [345, 4.4],\n",
       " [346, 4.307420494699647],\n",
       " [347, 3.878787878787879],\n",
       " [348, 3.78],\n",
       " [349, 3.25],\n",
       " [350, 3.9375],\n",
       " [351, 3.7572815533980584],\n",
       " [352, 3.4793103448275864],\n",
       " [353, 3.9166666666666665],\n",
       " [354, 3.586206896551724],\n",
       " [355, 3.4463007159904535],\n",
       " [356, 4.380952380952381],\n",
       " [357, 3.293103448275862],\n",
       " [358, 3.8472222222222223],\n",
       " [359, 3.857142857142857],\n",
       " [360, 3.6417910447761193],\n",
       " [361, 3.5384615384615383],\n",
       " [362, 3.290909090909091],\n",
       " [363, 3.744186046511628],\n",
       " [364, 3.142857142857143],\n",
       " [365, 3.3404255319148937],\n",
       " [366, 4.06949806949807],\n",
       " [367, 4.25],\n",
       " [368, 3.78125],\n",
       " [369, 3.1954022988505746],\n",
       " [370, 3.75],\n",
       " [371, 3.5],\n",
       " [372, 4.553571428571429],\n",
       " [373, 3.5555555555555554],\n",
       " [374, 4.403846153846154],\n",
       " [375, 4.078431372549019],\n",
       " [376, 4.111111111111111],\n",
       " [377, 3.9044117647058822],\n",
       " [378, 3.5128205128205128],\n",
       " [379, 4.234375],\n",
       " [380, 3.7246376811594204],\n",
       " [381, 4.114285714285714],\n",
       " [382, 4.017857142857143],\n",
       " [383, 3.5714285714285716],\n",
       " [384, 3.590909090909091],\n",
       " [385, 3.9562043795620436],\n",
       " [386, 3.3230769230769233],\n",
       " [387, 3.676470588235294],\n",
       " [388, 3.8813559322033897],\n",
       " [389, 3.5616438356164384],\n",
       " [390, 3.6728971962616823],\n",
       " [391, 3.728395061728395],\n",
       " [392, 3.4743326488706368],\n",
       " [393, 3.581081081081081],\n",
       " [394, 3.3421052631578947],\n",
       " [395, 3.608695652173913],\n",
       " [396, 3.560693641618497],\n",
       " [397, 3.8823529411764706],\n",
       " [398, 3.8133333333333335],\n",
       " [399, 4.15625],\n",
       " [400, 3.875],\n",
       " [401, 3.871794871794872],\n",
       " [402, 3.591549295774648],\n",
       " [403, 3.8035714285714284],\n",
       " [404, 4.14],\n",
       " [405, 3.795918367346939],\n",
       " [406, 3.306122448979592],\n",
       " [407, 3.4375],\n",
       " [408, 4.352564102564102],\n",
       " [409, 3.9158249158249157],\n",
       " [410, 3.96875],\n",
       " [411, 3.280314960629921],\n",
       " [412, 4.401260504201681],\n",
       " [413, 4.404040404040404],\n",
       " [414, 3.0701754385964914],\n",
       " [415, 3.874538745387454],\n",
       " [416, 3.7580645161290325],\n",
       " [417, 4.045454545454546],\n",
       " [418, 3.549019607843137],\n",
       " [419, 3.962962962962963],\n",
       " [420, 4.359375],\n",
       " [421, 4.25],\n",
       " [422, 3.297872340425532],\n",
       " [423, 2.5],\n",
       " [424, 3.735725938009788],\n",
       " [425, 3.6613756613756614],\n",
       " [426, 3.7573221757322175],\n",
       " [427, 4.111111111111111],\n",
       " [428, 3.9],\n",
       " [429, 3.346820809248555],\n",
       " [430, 3.9682539682539684],\n",
       " [431, 3.630952380952381],\n",
       " [432, 2.9863013698630136],\n",
       " [433, 3.391304347826087],\n",
       " [434, 4.023255813953488],\n",
       " [435, 3.8333333333333335],\n",
       " [436, 3.8345864661654137],\n",
       " [437, 4.3076923076923075],\n",
       " [438, 3.528239202657807],\n",
       " [439, 3.902173913043478],\n",
       " [440, 3.586206896551724],\n",
       " [441, 3.9574468085106385],\n",
       " [442, 3.8486997635933804],\n",
       " [443, 3.823529411764706],\n",
       " [444, 4.0],\n",
       " [445, 3.3181818181818183],\n",
       " [446, 4.8431372549019605],\n",
       " [447, 4.837837837837838],\n",
       " [448, 3.4347826086956523],\n",
       " [449, 3.7222222222222223],\n",
       " [450, 4.196078431372549],\n",
       " [451, 4.511961722488039],\n",
       " [452, 4.431818181818182],\n",
       " [453, 3.66497461928934],\n",
       " [454, 3.218045112781955],\n",
       " [455, 4.2],\n",
       " [456, 3.394904458598726],\n",
       " [457, 3.7130801687763713],\n",
       " [458, 3.5348837209302326],\n",
       " [459, 3.6875],\n",
       " [460, 3.3617021276595747],\n",
       " [461, 3.224609375],\n",
       " [462, 3.536723163841808],\n",
       " [463, 3.0],\n",
       " [464, 3.6097560975609757],\n",
       " [465, 3.5405405405405403],\n",
       " [466, 4.14070351758794],\n",
       " [467, 3.2028985507246377],\n",
       " [468, 3.730769230769231],\n",
       " [469, 4.326530612244898],\n",
       " [470, 3.8088235294117645],\n",
       " [471, 3.6285714285714286],\n",
       " [472, 4.022222222222222],\n",
       " [473, 4.163265306122449],\n",
       " [474, 3.380503144654088],\n",
       " [475, 3.8299595141700404],\n",
       " [476, 3.8375870069605567],\n",
       " [477, 3.5829383886255926],\n",
       " [478, 3.869565217391304],\n",
       " [479, 3.827956989247312],\n",
       " [480, 3.411214953271028],\n",
       " [481, 3.696969696969697],\n",
       " [482, 3.2606060606060607],\n",
       " [483, 2.9310344827586206],\n",
       " [484, 3.735294117647059],\n",
       " [485, 4.044444444444444],\n",
       " [486, 4.051282051282051],\n",
       " [487, 3.34],\n",
       " [488, 3.56],\n",
       " [489, 3.3333333333333335],\n",
       " [490, 3.7662337662337664],\n",
       " [491, 3.68],\n",
       " [492, 3.9375],\n",
       " [493, 3.848101265822785],\n",
       " [494, 4.157068062827225],\n",
       " [495, 3.7954545454545454],\n",
       " [496, 4.294117647058823],\n",
       " [497, 3.5833333333333335],\n",
       " [498, 3.6511627906976742],\n",
       " [499, 3.9748743718592965],\n",
       " [500, 3.633663366336634],\n",
       " [501, 3.417910447761194],\n",
       " [502, 4.083333333333333],\n",
       " [503, 4.448275862068965],\n",
       " [504, 3.8055555555555554],\n",
       " [505, 4.217391304347826],\n",
       " [506, 3.422222222222222],\n",
       " [507, 3.9523809523809526],\n",
       " [508, 3.3221476510067114],\n",
       " [509, 3.3139695712309822],\n",
       " [510, 3.8282828282828283],\n",
       " [511, 3.740740740740741],\n",
       " [512, 3.8378378378378377],\n",
       " [513, 3.1474358974358974],\n",
       " [514, 4.2025316455696204],\n",
       " [515, 3.728395061728395],\n",
       " [516, 2.931972789115646],\n",
       " [517, 3.963855421686747],\n",
       " [518, 4.3478260869565215],\n",
       " [519, 3.3777777777777778],\n",
       " [520, 3.9363057324840764],\n",
       " [521, 4.2926829268292686],\n",
       " [522, 3.8448275862068964],\n",
       " [523, 4.06],\n",
       " [524, 3.608267716535433],\n",
       " [525, 4.025],\n",
       " [526, 3.896551724137931],\n",
       " [527, 4.08],\n",
       " [528, 3.3551724137931034],\n",
       " [529, 4.19672131147541],\n",
       " [530, 4.0],\n",
       " [531, 3.1591695501730106],\n",
       " [532, 3.86046511627907],\n",
       " [533, 3.3401015228426396],\n",
       " [534, 3.7475728155339807],\n",
       " [535, 3.5714285714285716],\n",
       " [536, 3.942857142857143],\n",
       " [537, 4.3061224489795915],\n",
       " [538, 4.458333333333333],\n",
       " [539, 3.9242424242424243],\n",
       " [540, 3.230769230769231],\n",
       " [541, 3.1894736842105265],\n",
       " [542, 3.764705882352941],\n",
       " [543, 4.078986587183309],\n",
       " [544, 3.7777777777777777],\n",
       " [545, 3.4827586206896552],\n",
       " [546, 3.231818181818182],\n",
       " [547, 3.858974358974359],\n",
       " [548, 3.093220338983051],\n",
       " [549, 3.7569444444444446],\n",
       " [550, 3.578076525336091],\n",
       " [551, 3.8201754385964914],\n",
       " [552, 3.7628865979381443],\n",
       " [553, 4.15625],\n",
       " [554, 3.511627906976744],\n",
       " [555, 3.8157894736842106],\n",
       " [556, 3.5],\n",
       " [557, 3.8793103448275863],\n",
       " [558, 3.6804123711340204],\n",
       " [559, 3.0],\n",
       " [560, 3.897810218978102],\n",
       " [561, 3.7222222222222223],\n",
       " [562, 3.7027027027027026],\n",
       " [563, 2.7023121387283235],\n",
       " [564, 4.0],\n",
       " [565, 3.44],\n",
       " [566, 2.6273408239700373],\n",
       " [567, 4.583333333333333],\n",
       " [568, 4.44],\n",
       " [569, 3.52],\n",
       " [570, 3.329113924050633],\n",
       " [571, 3.7054794520547945],\n",
       " [572, 3.05],\n",
       " [573, 3.9722222222222223],\n",
       " [574, 4.095238095238095],\n",
       " [575, 3.6564417177914113],\n",
       " [576, 3.6666666666666665],\n",
       " [577, 4.487341772151899],\n",
       " [578, 3.9642857142857144],\n",
       " [579, 3.8550724637681157],\n",
       " [580, 3.347826086956522],\n",
       " [581, 3.6666666666666665],\n",
       " [582, 4.282051282051282],\n",
       " [583, 4.040229885057471],\n",
       " [584, 4.2894736842105265],\n",
       " [585, 3.4662162162162162],\n",
       " [586, 4.485714285714286],\n",
       " [587, 3.0077922077922077],\n",
       " [588, 4.057395143487859],\n",
       " [589, 4.0],\n",
       " [590, 4.13855421686747],\n",
       " [591, 3.231404958677686],\n",
       " [592, 4.391304347826087],\n",
       " [593, 3.641509433962264],\n",
       " [594, 4.29559748427673],\n",
       " [595, 3.95],\n",
       " [596, 2.9523809523809526],\n",
       " [597, 4.473684210526316],\n",
       " [598, 3.3157894736842106],\n",
       " [599, 3.8518518518518516],\n",
       " [600, 3.652173913043478],\n",
       " [601, 3.1501340482573728],\n",
       " [602, 3.396103896103896],\n",
       " [603, 3.5238095238095237],\n",
       " [604, 3.0940766550522647],\n",
       " [605, 4.049180327868853],\n",
       " [606, 4.03030303030303],\n",
       " [607, 4.16],\n",
       " [608, 3.1882352941176473],\n",
       " [609, 4.346153846153846],\n",
       " [610, 3.484126984126984],\n",
       " [611, 3.9393939393939394],\n",
       " [612, 3.5],\n",
       " [613, 3.5849056603773586],\n",
       " [614, 3.8333333333333335],\n",
       " [615, 4.127659574468085],\n",
       " [616, 3.9545454545454546],\n",
       " [617, 4.086956521739131],\n",
       " [618, 3.0],\n",
       " [619, 3.909090909090909],\n",
       " [620, 3.3240223463687153],\n",
       " [621, 3.0416666666666665],\n",
       " [622, 3.912280701754386],\n",
       " [623, 4.226744186046512],\n",
       " [624, 3.6801075268817205],\n",
       " [625, 4.0],\n",
       " [626, 4.055555555555555],\n",
       " [627, 3.5625],\n",
       " [628, 3.9038461538461537],\n",
       " [629, 3.371308016877637],\n",
       " [630, 4.254237288135593],\n",
       " [631, 3.7948717948717947],\n",
       " [632, 3.7941176470588234],\n",
       " [633, 3.5813953488372094],\n",
       " [634, 4.014925373134329],\n",
       " [635, 4.3107344632768365],\n",
       " [636, 4.058139534883721],\n",
       " [637, 3.7559681697612732],\n",
       " [638, 4.175438596491228],\n",
       " [639, 3.705],\n",
       " [640, 4.333333333333333],\n",
       " [641, 4.008264462809917],\n",
       " [642, 4.111111111111111],\n",
       " [643, 2.7142857142857144],\n",
       " [644, 3.1203703703703702],\n",
       " [645, 4.4772727272727275],\n",
       " [646, 3.8031496062992125],\n",
       " [647, 3.103896103896104],\n",
       " [648, 3.7231638418079096],\n",
       " [649, 3.6619718309859155],\n",
       " [650, 3.8947368421052633],\n",
       " [651, 3.6129707112970713],\n",
       " [652, 2.8863636363636362],\n",
       " [653, 4.142857142857143],\n",
       " [654, 3.4324324324324325],\n",
       " [655, 2.733009708737864],\n",
       " [656, 3.8700564971751414],\n",
       " [657, 4.016949152542373],\n",
       " [658, 3.096774193548387],\n",
       " [659, 3.7],\n",
       " [660, 3.0170697012802274],\n",
       " [661, 4.647887323943662],\n",
       " [662, 3.141732283464567],\n",
       " [663, 3.580357142857143],\n",
       " [664, 4.025316455696203],\n",
       " [665, 3.5],\n",
       " [666, 3.8932038834951457],\n",
       " [667, 3.0935672514619883],\n",
       " [668, 3.5833333333333335],\n",
       " [669, 3.847255369928401],\n",
       " [670, 3.2444444444444445],\n",
       " [671, 4.2592592592592595],\n",
       " [672, 3.872340425531915],\n",
       " [673, 3.13151364764268],\n",
       " [674, 4.2784810126582276],\n",
       " [675, 3.3095238095238093],\n",
       " [676, 3.128205128205128],\n",
       " [677, 3.892682926829268],\n",
       " [678, 3.6776776776776776],\n",
       " [679, 3.926829268292683],\n",
       " [680, 3.5714285714285716],\n",
       " [681, 4.2368421052631575],\n",
       " [682, 4.733333333333333],\n",
       " [683, 3.586206896551724],\n",
       " [684, 3.8947368421052633],\n",
       " [685, 3.2357142857142858],\n",
       " [686, 3.7777777777777777],\n",
       " [687, 3.4873417721518987],\n",
       " [688, 3.75],\n",
       " [689, 3.3925925925925924],\n",
       " [690, 4.311111111111111],\n",
       " [691, 4.174757281553398],\n",
       " [692, 3.8240887480190175],\n",
       " [693, 3.8857142857142857],\n",
       " [694, 3.625],\n",
       " [695, 3.513089005235602],\n",
       " [696, 3.802992518703242],\n",
       " [697, 3.8],\n",
       " [698, 3.551851851851852],\n",
       " [699, 3.0534124629080117],\n",
       " [700, 3.875],\n",
       " [701, 3.5],\n",
       " [702, 3.3027139874739038],\n",
       " [703, 4.1],\n",
       " [704, 3.081081081081081],\n",
       " [705, 3.371212121212121],\n",
       " [706, 3.556291390728477],\n",
       " [707, 3.6153846153846154],\n",
       " [708, 3.85],\n",
       " [709, 2.8292682926829267],\n",
       " [710, 3.4271186440677965],\n",
       " [711, 4.0],\n",
       " [712, 3.475177304964539],\n",
       " [713, 3.446280991735537],\n",
       " [714, 4.1635071090047395],\n",
       " [715, 3.8877551020408165],\n",
       " [716, 4.198979591836735],\n",
       " [717, 3.1538461538461537],\n",
       " [718, 3.775147928994083],\n",
       " [719, 3.5],\n",
       " [720, 2.9098712446351933],\n",
       " [721, 3.551051051051051],\n",
       " [722, 3.909090909090909],\n",
       " [723, 3.8333333333333335],\n",
       " [724, 3.643312101910828],\n",
       " [725, 4.197530864197531],\n",
       " [726, 3.9315068493150687],\n",
       " [727, 3.6987951807228914],\n",
       " [728, 3.311377245508982],\n",
       " [729, 3.5273972602739727],\n",
       " [730, 3.7735849056603774],\n",
       " [731, 3.778816199376947],\n",
       " [732, 3.4285714285714284],\n",
       " [733, 4.05982905982906],\n",
       " [734, 3.727272727272727],\n",
       " [735, 3.590330788804071],\n",
       " [736, 3.9298245614035086],\n",
       " [737, 3.5668202764976957],\n",
       " [738, 3.303030303030303],\n",
       " [739, 4.354330708661418],\n",
       " [740, 4.243243243243243],\n",
       " [741, 3.324675324675325],\n",
       " [742, 3.9523809523809526],\n",
       " [743, 3.38255033557047],\n",
       " [744, 3.3703703703703702],\n",
       " [745, 2.64],\n",
       " [746, 2.634433962264151],\n",
       " [747, 3.59375],\n",
       " [748, 3.9753086419753085],\n",
       " [749, 3.3246187363834423],\n",
       " [750, 4.321428571428571],\n",
       " [751, 3.88],\n",
       " [752, 2.8291015625],\n",
       " [753, 3.7752293577981653],\n",
       " [754, 3.7770700636942673],\n",
       " [755, 4.111111111111111],\n",
       " [756, 3.9714285714285715],\n",
       " [757, 3.225806451612903],\n",
       " [758, 4.0],\n",
       " [759, 3.5876288659793816],\n",
       " [760, 4.265625],\n",
       " [761, 4.55],\n",
       " [762, 3.717391304347826],\n",
       " [763, 3.730769230769231],\n",
       " [764, 4.525179856115108],\n",
       " [765, 3.574626865671642],\n",
       " [766, 3.9361702127659575],\n",
       " [767, 4.023529411764706],\n",
       " [768, 4.4375],\n",
       " [769, 3.8208955223880596],\n",
       " [770, 2.935441370223979],\n",
       " [771, 3.769230769230769],\n",
       " [772, 3.479591836734694],\n",
       " [773, 3.5918367346938775],\n",
       " [774, 3.2142857142857144],\n",
       " [775, 4.0],\n",
       " [776, 3.766990291262136],\n",
       " [777, 2.5796812749003983],\n",
       " [778, 3.785276073619632],\n",
       " [779, 3.3333333333333335],\n",
       " [780, 3.45703125],\n",
       " [781, 3.1709401709401708],\n",
       " [782, 3.4347826086956523],\n",
       " [783, 3.5210084033613445],\n",
       " [784, 4.066666666666666],\n",
       " [785, 3.2358490566037736],\n",
       " [786, 4.063492063492063],\n",
       " [787, 3.58974358974359],\n",
       " [788, 3.5255102040816326],\n",
       " [789, 2.9043478260869566],\n",
       " [790, 4.3478260869565215],\n",
       " [791, 3.966463414634146],\n",
       " [792, 3.4597701149425286],\n",
       " [793, 3.486666666666667],\n",
       " [794, 3.953488372093023],\n",
       " [795, 3.442953020134228],\n",
       " [796, 2.9717391304347824],\n",
       " [797, 4.036144578313253],\n",
       " [798, 3.149847094801223],\n",
       " [799, 3.6],\n",
       " [800, 3.4849624060150375],\n",
       " [801, 3.6596491228070174],\n",
       " [802, 3.938735177865613],\n",
       " [803, 3.7115384615384617],\n",
       " [804, 3.272727272727273],\n",
       " [805, 3.835616438356164],\n",
       " [806, 4.166666666666667],\n",
       " [807, 3.9696969696969697],\n",
       " [808, 3.1236363636363635],\n",
       " [809, 4.031914893617022],\n",
       " [810, 3.8174603174603177],\n",
       " [811, 4.184615384615385],\n",
       " [812, 3.739130434782609],\n",
       " [813, 3.343283582089552],\n",
       " [814, 4.055555555555555],\n",
       " [815, 4.068965517241379],\n",
       " [816, 3.6974358974358976],\n",
       " [817, 4.010050251256281],\n",
       " [818, 3.7251461988304095],\n",
       " [819, 3.3225806451612905],\n",
       " [820, 3.4134615384615383],\n",
       " [821, 2.9523809523809526],\n",
       " [822, 3.7226027397260273],\n",
       " [823, 3.8677685950413223],\n",
       " [824, 3.646103896103896],\n",
       " [825, 3.619047619047619],\n",
       " [826, 3.2857142857142856],\n",
       " [827, 3.9545454545454546],\n",
       " [828, 3.4434782608695653],\n",
       " [829, 4.231884057971015],\n",
       " [830, 3.6149425287356323],\n",
       " [831, 4.105263157894737],\n",
       " [832, 3.558139534883721],\n",
       " [833, 4.0476190476190474],\n",
       " [834, 4.16],\n",
       " [835, 2.75],\n",
       " [836, 2.4],\n",
       " [837, 3.260869565217391],\n",
       " [838, 4.090909090909091],\n",
       " [839, 3.988372093023256],\n",
       " [840, 4.219123505976095],\n",
       " [841, 3.576923076923077],\n",
       " [842, 3.8378378378378377],\n",
       " [843, 3.9444444444444446],\n",
       " [844, 3.4523809523809526],\n",
       " [845, 3.980769230769231],\n",
       " [846, 3.91699604743083],\n",
       " [847, 3.6129032258064515],\n",
       " [848, 4.178571428571429],\n",
       " [849, 3.264957264957265],\n",
       " [850, 3.5613718411552346],\n",
       " [851, 3.5921052631578947],\n",
       " [852, 4.117647058823529],\n",
       " [853, 3.890909090909091],\n",
       " [854, 3.027667984189723],\n",
       " [855, 3.4126984126984126],\n",
       " [856, 3.490566037735849],\n",
       " [857, 4.171428571428572],\n",
       " [858, 4.189473684210526],\n",
       " [859, 3.450980392156863],\n",
       " [860, 3.1666666666666665],\n",
       " [861, 3.9375],\n",
       " [862, 3.6724137931034484],\n",
       " [863, 4.225806451612903],\n",
       " [864, 4.050724637681159],\n",
       " [865, 3.8095238095238093],\n",
       " [866, 3.3333333333333335],\n",
       " [867, 3.659090909090909],\n",
       " [868, 3.6],\n",
       " [869, 3.5154394299287413],\n",
       " [870, 3.611111111111111],\n",
       " [871, 3.9069767441860463],\n",
       " [872, 3.635514018691589],\n",
       " [873, 3.8430232558139537],\n",
       " [874, 3.7857142857142856],\n",
       " [875, 4.083333333333333],\n",
       " [876, 3.828828828828829],\n",
       " [877, 3.308056872037915],\n",
       " [878, 4.142857142857143],\n",
       " [879, 4.025],\n",
       " [880, 3.4956521739130433],\n",
       " [881, 2.9354485776805253],\n",
       " [882, 4.0886075949367084],\n",
       " [883, 3.4166666666666665],\n",
       " [884, 4.01010101010101],\n",
       " [885, 4.140625],\n",
       " [886, 3.6285714285714286],\n",
       " [887, 3.5104166666666665],\n",
       " [888, 3.7777777777777777],\n",
       " [889, 2.8405797101449277],\n",
       " [890, 3.969298245614035],\n",
       " [891, 3.7443946188340806],\n",
       " [892, 3.911764705882353],\n",
       " [893, 3.2],\n",
       " [894, 4.442857142857143],\n",
       " [895, 3.953125],\n",
       " [896, 3.984375],\n",
       " [897, 3.5566502463054186],\n",
       " [898, 4.083333333333333],\n",
       " [899, 3.523219814241486],\n",
       " [900, 3.576923076923077],\n",
       " [901, 3.606060606060606],\n",
       " [902, 4.28],\n",
       " [903, 3.4594594594594597],\n",
       " [904, 3.3008130081300813],\n",
       " [905, 3.7886178861788617],\n",
       " [906, 3.5238095238095237],\n",
       " [907, 3.9523809523809526],\n",
       " [908, 3.3076923076923075],\n",
       " [909, 3.9014084507042255],\n",
       " [910, 3.6012269938650308],\n",
       " [911, 3.8685714285714288],\n",
       " [912, 3.7209302325581395],\n",
       " [913, 3.2888888888888888],\n",
       " [914, 4.278688524590164],\n",
       " [915, 2.831578947368421],\n",
       " [916, 3.9454545454545453],\n",
       " [917, 4.068965517241379],\n",
       " [918, 2.9583333333333335],\n",
       " [919, 3.9355828220858897],\n",
       " [920, 3.4615384615384617],\n",
       " [921, 3.6962025316455698],\n",
       " [922, 3.5830903790087465],\n",
       " [923, 3.608695652173913],\n",
       " [924, 3.9899497487437188],\n",
       " [925, 3.1323529411764706],\n",
       " [926, 4.247619047619048],\n",
       " [927, 3.230366492146597],\n",
       " [928, 4.3254716981132075],\n",
       " [929, 3.6816901408450704],\n",
       " [930, 3.0510204081632653],\n",
       " [931, 4.031847133757962],\n",
       " [932, 4.45],\n",
       " [933, 3.7096774193548385],\n",
       " [934, 2.9859437751004014],\n",
       " [935, 3.4896907216494846],\n",
       " [936, 3.5113636363636362],\n",
       " [937, 3.7327586206896552],\n",
       " [938, 3.870967741935484],\n",
       " [939, 3.757575757575758],\n",
       " [940, 3.1923076923076925],\n",
       " [941, 2.2857142857142856],\n",
       " [942, 4.04],\n",
       " [943, 4.296296296296297],\n",
       " [944, 3.8444444444444446],\n",
       " [945, 3.6196319018404908],\n",
       " [946, 4.303030303030303],\n",
       " [947, 3.0],\n",
       " [948, 3.7408123791102517],\n",
       " [949, 3.9295392953929538],\n",
       " [950, 2.963636363636364],\n",
       " [951, 4.523809523809524],\n",
       " [952, 3.9936305732484074],\n",
       " [953, 4.6878306878306875],\n",
       " [954, 3.7777777777777777],\n",
       " [955, 3.5798816568047336],\n",
       " [956, 3.990740740740741],\n",
       " [957, 4.271341463414634],\n",
       " [958, 3.9050632911392404],\n",
       " [959, 3.7395833333333335],\n",
       " [960, 3.9375],\n",
       " [961, 3.74],\n",
       " [962, 4.03921568627451],\n",
       " [963, 3.4339622641509435],\n",
       " [964, 3.717948717948718],\n",
       " [965, 4.116883116883117],\n",
       " [966, 3.5636363636363635],\n",
       " [967, 3.5384615384615383],\n",
       " [968, 4.131147540983607],\n",
       " [969, 4.115384615384615],\n",
       " [970, 3.1493624772313296],\n",
       " [971, 3.3318385650224216],\n",
       " [972, 3.3714285714285714],\n",
       " [973, 3.3963133640552994],\n",
       " [974, 3.7333333333333334],\n",
       " [975, 3.25990099009901],\n",
       " [976, 3.3636363636363638],\n",
       " [977, 3.7625],\n",
       " [978, 3.8863636363636362],\n",
       " [979, 4.04054054054054],\n",
       " [980, 3.2222222222222223],\n",
       " [981, 3.3303964757709252],\n",
       " [982, 4.176470588235294],\n",
       " [983, 4.115384615384615],\n",
       " [984, 3.5417867435158503],\n",
       " [985, 4.212328767123288],\n",
       " [986, 3.772727272727273],\n",
       " [987, 4.017045454545454],\n",
       " [988, 3.8493150684931505],\n",
       " [989, 4.681818181818182],\n",
       " [990, 3.549019607843137],\n",
       " [991, 3.75],\n",
       " [992, 3.4193548387096775],\n",
       " [993, 3.3448275862068964],\n",
       " [994, 4.153846153846154],\n",
       " [995, 3.8979591836734695],\n",
       " [996, 3.935810810810811],\n",
       " [997, 3.933333333333333],\n",
       " [998, 4.118518518518519],\n",
       " [999, 3.186893203883495],\n",
       " [1000, 4.130952380952381],\n",
       " ...]"
      ]
     },
     "execution_count": 112,
     "metadata": {},
     "output_type": "execute_result"
    }
   ],
   "source": [
    "for i in user_id :\n",
    "    user_mean = np.mean(data[id_one == i,2])\n",
    "    user_mean_list.append([i,user_mean])\n",
    "user_mean_list"
   ]
  },
  {
   "cell_type": "code",
   "execution_count": null,
   "id": "ab52ee8a",
   "metadata": {},
   "outputs": [
    {
     "data": {
      "text/plain": [
       "6040"
      ]
     },
     "execution_count": 85,
     "metadata": {},
     "output_type": "execute_result"
    }
   ],
   "source": [
    "len(user_mean_list)"
   ]
  },
  {
   "cell_type": "code",
   "execution_count": null,
   "id": "8568d070",
   "metadata": {},
   "outputs": [
    {
     "data": {
      "text/plain": [
       "array([[   1,    4],\n",
       "       [   2,    3],\n",
       "       [   3,    3],\n",
       "       ...,\n",
       "       [6038,    3],\n",
       "       [6039,    3],\n",
       "       [6040,    3]], dtype=int64)"
      ]
     },
     "execution_count": 86,
     "metadata": {},
     "output_type": "execute_result"
    }
   ],
   "source": [
    "user_mean_arr = np.array(user_mean_list, dtype = np.int64)\n",
    "user_mean_arr"
   ]
  },
  {
   "cell_type": "code",
   "execution_count": null,
   "id": "7b2ed0a9",
   "metadata": {},
   "outputs": [
    {
     "data": {
      "text/plain": [
       "3088"
      ]
     },
     "execution_count": 88,
     "metadata": {},
     "output_type": "execute_result"
    }
   ],
   "source": [
    "user_mean_arr[user_mean_arr[ : , 1] >= 4].size"
   ]
  },
  {
   "cell_type": "code",
   "execution_count": null,
   "id": "43a83af3",
   "metadata": {},
   "outputs": [
    {
     "data": {
      "text/plain": [
       "1544"
      ]
     },
     "execution_count": 89,
     "metadata": {},
     "output_type": "execute_result"
    }
   ],
   "source": [
    "user_mean_arr[user_mean_arr[ : , 1] >= 4,0].size"
   ]
  },
  {
   "cell_type": "code",
   "execution_count": null,
   "id": "cbfd0d8e",
   "metadata": {},
   "outputs": [],
   "source": []
  },
  {
   "cell_type": "code",
   "execution_count": null,
   "id": "72c96680",
   "metadata": {},
   "outputs": [],
   "source": []
  },
  {
   "cell_type": "code",
   "execution_count": null,
   "id": "65eb2258",
   "metadata": {},
   "outputs": [],
   "source": []
  },
  {
   "cell_type": "code",
   "execution_count": null,
   "id": "53907d7b",
   "metadata": {},
   "outputs": [],
   "source": []
  },
  {
   "cell_type": "code",
   "execution_count": null,
   "id": "dba39fc6",
   "metadata": {},
   "outputs": [],
   "source": []
  },
  {
   "cell_type": "code",
   "execution_count": null,
   "id": "8007e61d",
   "metadata": {},
   "outputs": [],
   "source": []
  },
  {
   "cell_type": "code",
   "execution_count": null,
   "id": "b198f409",
   "metadata": {},
   "outputs": [],
   "source": []
  },
  {
   "cell_type": "code",
   "execution_count": null,
   "id": "49c6e51b",
   "metadata": {},
   "outputs": [
    {
     "name": "stdout",
     "output_type": "stream",
     "text": [
      "[   1    1    1 ... 6040 6040 6040]\n",
      "1000209\n"
     ]
    }
   ],
   "source": [
    "id_one = data[:, 0]\n",
    "print(id_one)\n",
    "print(id_one.size)"
   ]
  },
  {
   "cell_type": "code",
   "execution_count": null,
   "id": "df82514b",
   "metadata": {},
   "outputs": [
    {
     "data": {
      "text/plain": [
       "array([[        1,      1193,         5, 978300760],\n",
       "       [        1,       661,         3, 978302109],\n",
       "       [        1,       914,         3, 978301968],\n",
       "       [        1,      3408,         4, 978300275],\n",
       "       [        1,      2355,         5, 978824291],\n",
       "       [        1,      1197,         3, 978302268],\n",
       "       [        1,      1287,         5, 978302039],\n",
       "       [        1,      2804,         5, 978300719],\n",
       "       [        1,       594,         4, 978302268],\n",
       "       [        1,       919,         4, 978301368],\n",
       "       [        1,       595,         5, 978824268],\n",
       "       [        1,       938,         4, 978301752],\n",
       "       [        1,      2398,         4, 978302281],\n",
       "       [        1,      2918,         4, 978302124],\n",
       "       [        1,      1035,         5, 978301753],\n",
       "       [        1,      2791,         4, 978302188],\n",
       "       [        1,      2687,         3, 978824268],\n",
       "       [        1,      2018,         4, 978301777],\n",
       "       [        1,      3105,         5, 978301713],\n",
       "       [        1,      2797,         4, 978302039],\n",
       "       [        1,      2321,         3, 978302205],\n",
       "       [        1,       720,         3, 978300760],\n",
       "       [        1,      1270,         5, 978300055],\n",
       "       [        1,       527,         5, 978824195],\n",
       "       [        1,      2340,         3, 978300103],\n",
       "       [        1,        48,         5, 978824351],\n",
       "       [        1,      1097,         4, 978301953],\n",
       "       [        1,      1721,         4, 978300055],\n",
       "       [        1,      1545,         4, 978824139],\n",
       "       [        1,       745,         3, 978824268],\n",
       "       [        1,      2294,         4, 978824291],\n",
       "       [        1,      3186,         4, 978300019],\n",
       "       [        1,      1566,         4, 978824330],\n",
       "       [        1,       588,         4, 978824268],\n",
       "       [        1,      1907,         4, 978824330],\n",
       "       [        1,       783,         4, 978824291],\n",
       "       [        1,      1836,         5, 978300172],\n",
       "       [        1,      1022,         5, 978300055],\n",
       "       [        1,      2762,         4, 978302091],\n",
       "       [        1,       150,         5, 978301777],\n",
       "       [        1,         1,         5, 978824268],\n",
       "       [        1,      1961,         5, 978301590],\n",
       "       [        1,      1962,         4, 978301753],\n",
       "       [        1,      2692,         4, 978301570],\n",
       "       [        1,       260,         4, 978300760],\n",
       "       [        1,      1028,         5, 978301777],\n",
       "       [        1,      1029,         5, 978302205],\n",
       "       [        1,      1207,         4, 978300719],\n",
       "       [        1,      2028,         5, 978301619],\n",
       "       [        1,       531,         4, 978302149],\n",
       "       [        1,      3114,         4, 978302174],\n",
       "       [        1,       608,         4, 978301398],\n",
       "       [        1,      1246,         4, 978302091]], dtype=int64)"
      ]
     },
     "execution_count": 64,
     "metadata": {},
     "output_type": "execute_result"
    }
   ],
   "source": [
    "data[user == 1]"
   ]
  },
  {
   "cell_type": "code",
   "execution_count": null,
   "id": "ba2fb8a9",
   "metadata": {},
   "outputs": [],
   "source": []
  },
  {
   "cell_type": "code",
   "execution_count": null,
   "id": "200e8398",
   "metadata": {},
   "outputs": [
    {
     "data": {
      "text/plain": [
       "4.188679245283019"
      ]
     },
     "execution_count": 67,
     "metadata": {},
     "output_type": "execute_result"
    }
   ],
   "source": [
    "# 사용자아이디가 1인 데이터만 boolean indexing 해오기\n",
    "# np.unique() : 중복값을 제거하고 고유값을 가져오는 함수\n",
    "# 사용자의 아이디가 있는 부분은 data[ : , 0]\n",
    "# 중복되는 사용자 아이디가 많기 때문에 고유값으로 아이디를 파악해보자!\n",
    "\n",
    "user_a = data[user == 1]     #1아이디가 1인 사람을 user에 넣어줌\n",
    "user_a\n",
    "#사용자가 1인의 평균 구해오기\n",
    "\n",
    "one = user_a[ : ,2].mean()      # 아이디 1인거의 평균을 가져와서 구해줌\n",
    "one"
   ]
  },
  {
   "cell_type": "code",
   "execution_count": null,
   "id": "d1d7bb6c",
   "metadata": {},
   "outputs": [
    {
     "ename": "IndexError",
     "evalue": "boolean index did not match indexed array along dimension 0; dimension is 1000209 but corresponding boolean dimension is 6040",
     "output_type": "error",
     "traceback": [
      "\u001b[1;31m---------------------------------------------------------------------------\u001b[0m",
      "\u001b[1;31mIndexError\u001b[0m                                Traceback (most recent call last)",
      "\u001b[1;32m~\\AppData\\Local\\Temp\\ipykernel_4796\\2924738975.py\u001b[0m in \u001b[0;36m<module>\u001b[1;34m\u001b[0m\n\u001b[1;32m----> 1\u001b[1;33m \u001b[0mdata\u001b[0m\u001b[1;33m[\u001b[0m\u001b[0muser_id\u001b[0m \u001b[1;33m==\u001b[0m \u001b[1;36m1\u001b[0m\u001b[1;33m]\u001b[0m\u001b[1;33m\u001b[0m\u001b[1;33m\u001b[0m\u001b[0m\n\u001b[0m",
      "\u001b[1;31mIndexError\u001b[0m: boolean index did not match indexed array along dimension 0; dimension is 1000209 but corresponding boolean dimension is 6040"
     ]
    }
   ],
   "source": []
  },
  {
   "cell_type": "code",
   "execution_count": null,
   "id": "6041afbc",
   "metadata": {},
   "outputs": [
    {
     "data": {
      "text/plain": [
       "6040"
      ]
     },
     "execution_count": 34,
     "metadata": {},
     "output_type": "execute_result"
    }
   ],
   "source": [
    "user_id.size"
   ]
  },
  {
   "cell_type": "code",
   "execution_count": null,
   "id": "26872829",
   "metadata": {},
   "outputs": [],
   "source": [
    "# 각 사용자별 평균 평점 구하기\n",
    "\n",
    "user_mean_list = []    # 리스트에 담아줄꺼임\n",
    "\n",
    "for i in range(6040) :\n",
    "    # 사용자가 1번부터 6040번 까지 반복되면서 2번 인덱스(평점)의 평균을 구함\n",
    "    u = np.mean(data[user_id == i , 2])    # 행은 아이디 , 열은 평점을 가져온다는 말 임  \n",
    "    #빈리스트에서 사용자번호와 그 사람이 매긴 평점의 평균을 리스트에 담아주는 작업\n",
    "    print(i)\n",
    "    user_mean_list.append([i, u])   # append는 특성상 하나의 값 밖에 못받음 그래서 리스트로 넣어줌\n",
    "    \n",
    "user_mean_list"
   ]
  },
  {
   "cell_type": "code",
   "execution_count": null,
   "id": "ccd672cb",
   "metadata": {},
   "outputs": [],
   "source": []
  },
  {
   "cell_type": "code",
   "execution_count": null,
   "id": "96e11949",
   "metadata": {},
   "outputs": [],
   "source": [
    "user_mean_list = []"
   ]
  },
  {
   "cell_type": "code",
   "execution_count": null,
   "id": "542a75a4",
   "metadata": {},
   "outputs": [
    {
     "data": {
      "text/plain": [
       "3.5777126099706744"
      ]
     },
     "execution_count": 74,
     "metadata": {},
     "output_type": "execute_result"
    }
   ],
   "source": [
    "for i in user_id :\n",
    "    user_mean = np.mean(data[user == i ,2 ])\n",
    "    user_mean_list.append([i,user_mean])\n",
    "\n",
    "user_mean \n",
    "# user_mean_list    \n",
    "# user_a = data[user == 1]     #1아이디가 1인 사람을 user에 넣어줌\n",
    "# user_a\n",
    "# #사용자가 1인의 평균 구해오기\n",
    "\n",
    "# one = user_a[ : ,2].mean()      # 아이디 1인거의 평균을 가져와서 구해줌\n",
    "# one"
   ]
  },
  {
   "cell_type": "code",
   "execution_count": null,
   "id": "8de49aa3",
   "metadata": {},
   "outputs": [
    {
     "data": {
      "text/plain": [
       "12080"
      ]
     },
     "execution_count": 73,
     "metadata": {},
     "output_type": "execute_result"
    }
   ],
   "source": [
    "len(user_mean_list)"
   ]
  },
  {
   "cell_type": "code",
   "execution_count": null,
   "id": "fa74c888",
   "metadata": {},
   "outputs": [
    {
     "ename": "IndexError",
     "evalue": "boolean index did not match indexed array along dimension 0; dimension is 1000209 but corresponding boolean dimension is 6040",
     "output_type": "error",
     "traceback": [
      "\u001b[1;31m---------------------------------------------------------------------------\u001b[0m",
      "\u001b[1;31mIndexError\u001b[0m                                Traceback (most recent call last)",
      "\u001b[1;32m~\\AppData\\Local\\Temp\\ipykernel_4796\\4258751690.py\u001b[0m in \u001b[0;36m<module>\u001b[1;34m\u001b[0m\n\u001b[1;32m----> 1\u001b[1;33m \u001b[0mdata\u001b[0m\u001b[1;33m[\u001b[0m\u001b[0muser_id\u001b[0m \u001b[1;33m==\u001b[0m \u001b[1;36m1\u001b[0m\u001b[1;33m]\u001b[0m\u001b[1;33m\u001b[0m\u001b[1;33m\u001b[0m\u001b[0m\n\u001b[0m",
      "\u001b[1;31mIndexError\u001b[0m: boolean index did not match indexed array along dimension 0; dimension is 1000209 but corresponding boolean dimension is 6040"
     ]
    }
   ],
   "source": [
    "data[user_id == 1]\n"
   ]
  },
  {
   "cell_type": "code",
   "execution_count": null,
   "id": "4d853764",
   "metadata": {},
   "outputs": [],
   "source": []
  },
  {
   "cell_type": "code",
   "execution_count": null,
   "id": "5c0624c9",
   "metadata": {},
   "outputs": [],
   "source": []
  },
  {
   "cell_type": "markdown",
   "id": "0b7b8edc",
   "metadata": {},
   "source": []
  },
  {
   "cell_type": "code",
   "execution_count": null,
   "id": "05a8f69d",
   "metadata": {},
   "outputs": [],
   "source": []
  },
  {
   "cell_type": "code",
   "execution_count": null,
   "id": "9c1825f1",
   "metadata": {},
   "outputs": [
    {
     "data": {
      "text/plain": [
       "[]"
      ]
     },
     "execution_count": 16,
     "metadata": {},
     "output_type": "execute_result"
    }
   ],
   "source": [
    "user_mean_list = []\n",
    "user_mean_list"
   ]
  },
  {
   "cell_type": "code",
   "execution_count": null,
   "id": "eb87cc98",
   "metadata": {},
   "outputs": [
    {
     "data": {
      "text/plain": [
       "[[1, 3.7131782945736433], [1, 3.7131782945736433], [2, 3.7131782945736433]]"
      ]
     },
     "execution_count": 14,
     "metadata": {},
     "output_type": "execute_result"
    }
   ],
   "source": [
    "u = np.mean(data[user_id == 2 , 2])\n",
    "u\n",
    "user_mean_list.append([2, u])\n",
    "user_mean_list"
   ]
  },
  {
   "cell_type": "code",
   "execution_count": null,
   "id": "85da9150",
   "metadata": {},
   "outputs": [],
   "source": []
  },
  {
   "cell_type": "code",
   "execution_count": null,
   "id": "861858e8",
   "metadata": {},
   "outputs": [],
   "source": []
  },
  {
   "cell_type": "code",
   "execution_count": null,
   "id": "a06eb32c",
   "metadata": {},
   "outputs": [],
   "source": []
  },
  {
   "cell_type": "code",
   "execution_count": null,
   "id": "f7d045e8",
   "metadata": {},
   "outputs": [
    {
     "data": {
      "text/plain": [
       "6040"
      ]
     },
     "execution_count": 15,
     "metadata": {},
     "output_type": "execute_result"
    }
   ],
   "source": [
    "len(user_mean_list)"
   ]
  },
  {
   "cell_type": "code",
   "execution_count": null,
   "id": "8e0d896d",
   "metadata": {},
   "outputs": [
    {
     "ename": "ValueError",
     "evalue": "setting an array element with a sequence. The requested array has an inhomogeneous shape after 2 dimensions. The detected shape was (6040, 2) + inhomogeneous part.",
     "output_type": "error",
     "traceback": [
      "\u001b[1;31m---------------------------------------------------------------------------\u001b[0m",
      "\u001b[1;31mValueError\u001b[0m                                Traceback (most recent call last)",
      "\u001b[1;32m~\\AppData\\Local\\Temp\\ipykernel_11336\\375056641.py\u001b[0m in \u001b[0;36m<module>\u001b[1;34m\u001b[0m\n\u001b[0;32m      1\u001b[0m \u001b[1;31m# 각 사용자별 평균 평점이 4점 이상인 사용자와 몇명인지 구하기\u001b[0m\u001b[1;33m\u001b[0m\u001b[1;33m\u001b[0m\u001b[0m\n\u001b[1;32m----> 2\u001b[1;33m \u001b[0muser_mean_arr\u001b[0m \u001b[1;33m=\u001b[0m \u001b[0mnp\u001b[0m\u001b[1;33m.\u001b[0m\u001b[0marray\u001b[0m\u001b[1;33m(\u001b[0m\u001b[0muser_mean_list\u001b[0m\u001b[1;33m,\u001b[0m \u001b[0mdtype\u001b[0m \u001b[1;33m=\u001b[0m \u001b[0mnp\u001b[0m\u001b[1;33m.\u001b[0m\u001b[0mint64\u001b[0m\u001b[1;33m)\u001b[0m\u001b[1;33m\u001b[0m\u001b[1;33m\u001b[0m\u001b[0m\n\u001b[0m\u001b[0;32m      3\u001b[0m \u001b[0muser_mean_arr\u001b[0m\u001b[1;33m\u001b[0m\u001b[1;33m\u001b[0m\u001b[0m\n\u001b[0;32m      4\u001b[0m \u001b[1;33m\u001b[0m\u001b[0m\n\u001b[0;32m      5\u001b[0m \u001b[0muser_mean_arr\u001b[0m\u001b[1;33m[\u001b[0m\u001b[0muser_mean_arr\u001b[0m\u001b[1;33m[\u001b[0m \u001b[1;33m:\u001b[0m \u001b[1;33m,\u001b[0m\u001b[1;36m1\u001b[0m \u001b[1;33m]\u001b[0m \u001b[1;33m>=\u001b[0m \u001b[1;36m4\u001b[0m\u001b[1;33m]\u001b[0m\u001b[1;33m\u001b[0m\u001b[1;33m\u001b[0m\u001b[0m\n",
      "\u001b[1;31mValueError\u001b[0m: setting an array element with a sequence. The requested array has an inhomogeneous shape after 2 dimensions. The detected shape was (6040, 2) + inhomogeneous part."
     ]
    }
   ],
   "source": [
    "# 각 사용자별 평균 평점이 4점 이상인 사용자와 몇명인지 구하기\n",
    "user_mean_arr = np.array(user_mean_list, dtype = np.int64)\n",
    "user_mean_arr\n",
    "\n",
    "user_mean_arr[user_mean_arr[ : ,1 ] >= 4]\n",
    "\n"
   ]
  },
  {
   "cell_type": "code",
   "execution_count": null,
   "id": "962633fc",
   "metadata": {},
   "outputs": [],
   "source": [
    "# 분석결과를 CSV 파일로 저장하기 (선생님과 같이 할거에요_)\n",
    "# np.savetxt('저장할때 파일 실제 이름 명. 확장자명', 실제 데이터 변수, 구분자, 데이터 표현 방식)\n",
    "np.savetxt('user별_평점_평균.csv',user_mean_list, delimiter = \",\",fmt = \"%.3f\")\n",
    "# 이런식으로 엑셀에 불러와줄수 있음\n",
    "# 여기서 \"%.3f\" 는 소숫점 셋째자리까지 불러올 수 있게 만들어주는 친구임"
   ]
  },
  {
   "cell_type": "code",
   "execution_count": null,
   "id": "ae0c980c",
   "metadata": {},
   "outputs": [],
   "source": []
  },
  {
   "cell_type": "code",
   "execution_count": null,
   "id": "809cd589",
   "metadata": {},
   "outputs": [],
   "source": []
  },
  {
   "cell_type": "code",
   "execution_count": null,
   "id": "61726575",
   "metadata": {},
   "outputs": [],
   "source": []
  },
  {
   "cell_type": "code",
   "execution_count": null,
   "id": "f8444122",
   "metadata": {},
   "outputs": [],
   "source": []
  },
  {
   "cell_type": "code",
   "execution_count": null,
   "id": "b000db17",
   "metadata": {},
   "outputs": [],
   "source": []
  },
  {
   "cell_type": "code",
   "execution_count": null,
   "id": "244371d9",
   "metadata": {},
   "outputs": [],
   "source": []
  }
 ],
 "metadata": {
  "kernelspec": {
   "display_name": "base",
   "language": "python",
   "name": "python3"
  },
  "language_info": {
   "codemirror_mode": {
    "name": "ipython",
    "version": 3
   },
   "file_extension": ".py",
   "mimetype": "text/x-python",
   "name": "python",
   "nbconvert_exporter": "python",
   "pygments_lexer": "ipython3",
   "version": "3.9.13"
  },
  "vscode": {
   "interpreter": {
    "hash": "5179d32cf6ec497baf3f8a3ef987cc77c5d2dc691fdde20a56316522f61a7323"
   }
  }
 },
 "nbformat": 4,
 "nbformat_minor": 5
}
